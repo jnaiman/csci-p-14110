{
 "cells": [
  {
   "cell_type": "code",
   "execution_count": null,
   "metadata": {},
   "outputs": [],
   "source": [
    "# just a few notes"
   ]
  },
  {
   "cell_type": "markdown",
   "metadata": {},
   "source": [
    "* ellipse centered at $(x_0, y_0)$: $\\frac{(x-x_0)^2}{a^2} + \\frac{(y-y_0)^2}{b^2}$ = 1\n",
    " * parabola with lowest point $(x_0, y_0)$: $y = a(x - x_0)^2 + y_0$\n",
    "    * another form, called standard form: $y = ax^2 + bx + c$\n",
    "    * more about parabolas: https://www.khanacademy.org/math/precalculus/conics-precalc/focus-and-directrix-of-a-parabola/v/focus-and-directrix-introduction\n",
    "* hyperbola: $\\frac{x^2}{a^2} - \\frac{y^2}{b^2} = 1$"
   ]
  },
  {
   "cell_type": "code",
   "execution_count": null,
   "metadata": {},
   "outputs": [],
   "source": [
    "# for 2 body\n",
    "\n",
    "ri = r_0\n",
    "vi = v_0\n",
    "\n",
    "r = []\n",
    "for i in range(n_steps):\n",
    "    # use function to grab ag\n",
    "    ag = calcAcc(mass_of_star, ri)\n",
    "    ri1 = ri + vi*delta_t\n",
    "    vi1 = vi + ag*delta_t\n",
    "    \n",
    "    # append to r vector\n",
    "    r.append(ri1)\n",
    "    \n",
    "    # replace stuff\n",
    "    ri = ri1\n",
    "    vi = vi1\n",
    "    \n",
    "# what does it look like?\n",
    "r = np.array(r)\n",
    "\n",
    "r"
   ]
  }
 ],
 "metadata": {
  "kernelspec": {
   "display_name": "Python 3",
   "language": "python",
   "name": "python3"
  },
  "language_info": {
   "codemirror_mode": {
    "name": "ipython",
    "version": 3
   },
   "file_extension": ".py",
   "mimetype": "text/x-python",
   "name": "python",
   "nbconvert_exporter": "python",
   "pygments_lexer": "ipython3",
   "version": "3.7.3"
  }
 },
 "nbformat": 4,
 "nbformat_minor": 2
}
