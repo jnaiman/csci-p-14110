{
 "cells": [
  {
   "cell_type": "markdown",
   "metadata": {},
   "source": [
    "# Intro to linear/circular motion"
   ]
  },
  {
   "cell_type": "code",
   "execution_count": 1,
   "metadata": {},
   "outputs": [],
   "source": [
    "import numpy as np"
   ]
  },
  {
   "cell_type": "code",
   "execution_count": 3,
   "metadata": {},
   "outputs": [
    {
     "data": {
      "text/plain": [
       "10.174532925199433"
      ]
     },
     "execution_count": 3,
     "metadata": {},
     "output_type": "execute_result"
    }
   ],
   "source": [
    "theta_1 = 10*np.pi/180.0 + 2.0*5\n",
    "theta_1"
   ]
  },
  {
   "cell_type": "code",
   "execution_count": 4,
   "metadata": {},
   "outputs": [
    {
     "data": {
      "text/plain": [
       "5.174532925199433"
      ]
     },
     "execution_count": 4,
     "metadata": {},
     "output_type": "execute_result"
    }
   ],
   "source": [
    "theta_2 = theta_1 - 0.5*10\n",
    "theta_2"
   ]
  },
  {
   "cell_type": "code",
   "execution_count": 5,
   "metadata": {},
   "outputs": [
    {
     "data": {
      "text/plain": [
       "7.674532925199433"
      ]
     },
     "execution_count": 5,
     "metadata": {},
     "output_type": "execute_result"
    }
   ],
   "source": [
    "theta_3 = theta_2 + 5*0.5\n",
    "theta_3"
   ]
  },
  {
   "cell_type": "code",
   "execution_count": 7,
   "metadata": {},
   "outputs": [
    {
     "data": {
      "text/plain": [
       "10.674532925199433"
      ]
     },
     "execution_count": 7,
     "metadata": {},
     "output_type": "execute_result"
    }
   ],
   "source": [
    "theta_4 = theta_3 + 1*3\n",
    "theta_4"
   ]
  },
  {
   "cell_type": "markdown",
   "metadata": {},
   "source": [
    "Let's make a function:"
   ]
  },
  {
   "cell_type": "code",
   "execution_count": 20,
   "metadata": {},
   "outputs": [],
   "source": [
    "def final_angle(theta_0, list_of_omegas, list_of_delta_times):\n",
    "    theta_i = theta_0\n",
    "    for i in range(0, len(list_of_omegas)):\n",
    "        theta_ip1 = theta_i + list_of_omegas[i]*list_of_delta_times[i]\n",
    "        print('DEBUG: i = ', i)\n",
    "        print('DEBUG: theta_0', theta_i)\n",
    "        print('DEBUG: theta_i', theta_ip1)\n",
    "        theta_i = theta_ip1\n",
    "    print('Final angle is ' + str(theta_ip1*180/np.pi) + ' degrees')\n",
    "    print(' or in radians = ' + str(theta_ip1))"
   ]
  },
  {
   "cell_type": "code",
   "execution_count": 21,
   "metadata": {},
   "outputs": [],
   "source": [
    "theta_0 = 10*np.pi/180\n",
    "list_of_omegas = [2, -0.5, 5, 1]\n",
    "list_of_times = [5, 10, 0.5, 3]"
   ]
  },
  {
   "cell_type": "code",
   "execution_count": 22,
   "metadata": {},
   "outputs": [
    {
     "name": "stdout",
     "output_type": "stream",
     "text": [
      "DEBUG: i =  0\n",
      "DEBUG: theta_0 0.17453292519943295\n",
      "DEBUG: theta_i 10.174532925199433\n",
      "DEBUG: i =  1\n",
      "DEBUG: theta_0 10.174532925199433\n",
      "DEBUG: theta_i 5.174532925199433\n",
      "DEBUG: i =  2\n",
      "DEBUG: theta_0 5.174532925199433\n",
      "DEBUG: theta_i 7.674532925199433\n",
      "DEBUG: i =  3\n",
      "DEBUG: theta_0 7.674532925199433\n",
      "DEBUG: theta_i 10.674532925199433\n",
      "Final angle is 611.6056848873643 degrees\n",
      " or in radians = 10.674532925199433\n"
     ]
    }
   ],
   "source": [
    "final_angle(theta_0, list_of_omegas, list_of_times)"
   ]
  },
  {
   "cell_type": "markdown",
   "metadata": {},
   "source": [
    "# Gravity and circular motion - measuring gravity"
   ]
  },
  {
   "cell_type": "code",
   "execution_count": 23,
   "metadata": {},
   "outputs": [],
   "source": [
    "%matplotlib notebook"
   ]
  },
  {
   "cell_type": "code",
   "execution_count": 24,
   "metadata": {},
   "outputs": [],
   "source": [
    "import matplotlib.pyplot as plt"
   ]
  },
  {
   "cell_type": "code",
   "execution_count": 25,
   "metadata": {},
   "outputs": [],
   "source": [
    "import imageio"
   ]
  },
  {
   "cell_type": "code",
   "execution_count": 26,
   "metadata": {},
   "outputs": [],
   "source": [
    "#!pip install imageio-ffmpeg\n",
    "reader = imageio.get_reader('https://d3tsb3m56iwvoq.cloudfront.net/transcoded/techtv/a054739f22d04659b13f05e44879952a/hd.mp4')"
   ]
  },
  {
   "cell_type": "code",
   "execution_count": 27,
   "metadata": {},
   "outputs": [
    {
     "data": {
      "text/plain": [
       "29.97"
      ]
     },
     "execution_count": 27,
     "metadata": {},
     "output_type": "execute_result"
    }
   ],
   "source": [
    "fps = reader.get_meta_data()['fps']\n",
    "fps"
   ]
  },
  {
   "cell_type": "code",
   "execution_count": null,
   "metadata": {},
   "outputs": [],
   "source": [
    "conda install ffmpeg -c conda-forge"
   ]
  }
 ],
 "metadata": {
  "kernelspec": {
   "display_name": "Python 3",
   "language": "python",
   "name": "python3"
  },
  "language_info": {
   "codemirror_mode": {
    "name": "ipython",
    "version": 3
   },
   "file_extension": ".py",
   "mimetype": "text/x-python",
   "name": "python",
   "nbconvert_exporter": "python",
   "pygments_lexer": "ipython3",
   "version": "3.7.3"
  }
 },
 "nbformat": 4,
 "nbformat_minor": 2
}
