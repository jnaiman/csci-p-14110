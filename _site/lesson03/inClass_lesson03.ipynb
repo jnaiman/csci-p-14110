{
 "cells": [
  {
   "cell_type": "markdown",
   "metadata": {},
   "source": [
    "# Plotting orbits (finally!)"
   ]
  },
  {
   "cell_type": "code",
   "execution_count": 1,
   "metadata": {},
   "outputs": [],
   "source": [
    "import numpy as np\n",
    "import matplotlib.pyplot as plt\n",
    "%matplotlib inline"
   ]
  },
  {
   "cell_type": "code",
   "execution_count": 17,
   "metadata": {},
   "outputs": [],
   "source": [
    "# a sun\n",
    "mass_of_star = 1.0 # Msun"
   ]
  },
  {
   "cell_type": "code",
   "execution_count": 18,
   "metadata": {},
   "outputs": [],
   "source": [
    "rp = 1.0 # AU\n",
    "vp = 35.0 # km/s"
   ]
  },
  {
   "cell_type": "code",
   "execution_count": 19,
   "metadata": {},
   "outputs": [],
   "source": [
    "MassOfSun = 2e33 # g\n",
    "MassOfJupiter = 1.898e30 # g\n",
    "AUinCM = 1.496e13 # AU in CM\n",
    "kmincm = 1e5 # cm/km\n",
    "G = 6.674e-8 # gravitational const in cm^3 g^-1 s^-2"
   ]
  },
  {
   "cell_type": "code",
   "execution_count": 20,
   "metadata": {},
   "outputs": [],
   "source": [
    "mass_of_star = mass_of_star*MassOfSun\n",
    "vp = vp*kmincm\n",
    "rp = rp*AUinCM"
   ]
  },
  {
   "cell_type": "markdown",
   "metadata": {},
   "source": [
    "Let's first plot an analytical solution"
   ]
  },
  {
   "cell_type": "code",
   "execution_count": 21,
   "metadata": {},
   "outputs": [
    {
     "name": "stdout",
     "output_type": "stream",
     "text": [
      "Eccentricity = 0.37293976625711744\n",
      "Orbital period = 63373146.36904171 sec\n",
      "Orbital period = 2.0118459164775144 years\n"
     ]
    }
   ],
   "source": [
    "ecc = rp*vp*vp/(G*mass_of_star)-1.0 # eccentricity\n",
    "a = rp/(1.0-ecc) # semi-major axis\n",
    "\n",
    "print('Eccentricity = ' + str(ecc))\n",
    "Porb = np.sqrt(4.0*np.pi**2.0*a**3.0/(G*mass_of_star))\n",
    "print('Orbital period = ' + str(Porb) + ' sec')\n",
    "print('Orbital period = ' + str(Porb/3.15e7) + ' years')"
   ]
  },
  {
   "cell_type": "markdown",
   "metadata": {},
   "source": [
    "A check for bound orbits:"
   ]
  },
  {
   "cell_type": "code",
   "execution_count": 22,
   "metadata": {},
   "outputs": [
    {
     "name": "stdout",
     "output_type": "stream",
     "text": [
      "all ok! go on!\n"
     ]
    }
   ],
   "source": [
    "if ecc < 0:\n",
    "    print('ecc is less than zero we should stop!')\n",
    "elif (ecc >=1):\n",
    "    print('ecc is > 1, probably shouldnt go on!')\n",
    "else:\n",
    "    print('all ok! go on!')"
   ]
  },
  {
   "cell_type": "markdown",
   "metadata": {},
   "source": [
    "### Exercise\n",
    "Plot $r(\\theta)$ using this information.\n",
    "\n",
    "Recall:\n",
    "$r(\\theta) = \\frac{a(1-e^2)}{1+ecos(\\theta)}$"
   ]
  },
  {
   "cell_type": "code",
   "execution_count": 30,
   "metadata": {},
   "outputs": [
    {
     "data": {
      "image/png": "[encoded data removed]",
      "text/plain": [
       "<Figure size 432x288 with 1 Axes>"
      ]
     },
     "metadata": {
      "needs_background": "light"
     },
     "output_type": "display_data"
    }
   ],
   "source": [
    "theta = np.linspace(0, 2*np.pi, 500)\n",
    "theta\n",
    "\n",
    "r = a*(1-ecc**2)/(1+ecc*np.cos(theta))\n",
    "r/AUinCM\n",
    "\n",
    "x = r*np.cos(theta)\n",
    "y = r*np.sin(theta)\n",
    "\n",
    "plt.plot(x/AUinCM,y/AUinCM)\n",
    "plt.xlabel('x in AU')\n",
    "plt.ylabel('y in AU')\n",
    "plt.show()"
   ]
  },
  {
   "cell_type": "markdown",
   "metadata": {},
   "source": [
    "Function to calculate acceleration:"
   ]
  },
  {
   "cell_type": "code",
   "execution_count": 53,
   "metadata": {},
   "outputs": [],
   "source": [
    "# mStar is in g, rStar is a 2D vector representing \n",
    "#  distance from planet to star with (x,y) componets (in cm)\n",
    "def calcAcc(mStar, rStar):\n",
    "    # mag(r) = sqrt( r_x^2 + r_y^2 )\n",
    "    mag_r = (rStar[0]**2 + rStar[1]**2)**0.5\n",
    "    #print('mag_r ', mag_r)\n",
    "    # acc due to gravity: a = -G*M/mag_r^2\n",
    "    mag_a = -G*mStar/mag_r**2\n",
    "    # direction: is planet is being pulled back toward sun\n",
    "    unitVector = rStar/mag_r\n",
    "    acc = mag_a*unitVector\n",
    "    #print(acc)\n",
    "    return(acc)"
   ]
  },
  {
   "cell_type": "code",
   "execution_count": 54,
   "metadata": {},
   "outputs": [
    {
     "name": "stdout",
     "output_type": "stream",
     "text": [
      "radius to star outside of function =  74800000000000.0\n",
      "[-0.02385684 -0.        ]\n"
     ]
    }
   ],
   "source": [
    "radius_to_star = 5.0*AUinCM\n",
    "print('radius to star outside of function = ', radius_to_star)\n",
    "\n",
    "acc = calcAcc(mass_of_star, np.array([radius_to_star,0]))\n",
    "print(acc)\n"
   ]
  },
  {
   "cell_type": "code",
   "execution_count": 51,
   "metadata": {},
   "outputs": [
    {
     "data": {
      "text/plain": [
       "array([1.25, 1.5 ])"
      ]
     },
     "execution_count": 51,
     "metadata": {},
     "output_type": "execute_result"
    }
   ],
   "source": [
    "np.array([5,6])/4.0"
   ]
  },
  {
   "cell_type": "markdown",
   "metadata": {},
   "source": [
    "Our initial conditions:"
   ]
  },
  {
   "cell_type": "code",
   "execution_count": 55,
   "metadata": {},
   "outputs": [],
   "source": [
    "r_0 = np.array([rp, 0])\n",
    "v_0 = np.array([0, vp])"
   ]
  },
  {
   "cell_type": "markdown",
   "metadata": {},
   "source": [
    "How big will our timestep be? $\\Delta t$"
   ]
  },
  {
   "cell_type": "code",
   "execution_count": 78,
   "metadata": {},
   "outputs": [],
   "source": [
    "delta_t = 1e5 # sec, for no reason at all\n",
    "n_step = 5000 # number of steps for our whole simulation, again for no reason"
   ]
  },
  {
   "cell_type": "code",
   "execution_count": 79,
   "metadata": {},
   "outputs": [],
   "source": [
    "#r = np.array([]) # WRONG!!!\n",
    "\n",
    "r = []\n",
    "ri = r_0 # initial starting radius\n",
    "vi = v_0 # initial starting velocity\n",
    "for i in range(n_step): # for 50 steps\n",
    "    # first we have to calculate the acceleration of gravity at a particular postion\n",
    "    ag = calcAcc(mass_of_star, ri)\n",
    "    # we'll update our velocity based on this acceleration\n",
    "    vip1 = vi + ag*delta_t\n",
    "    # update our position from our new or old velocity\n",
    "    rip1 = ri + vi*delta_t\n",
    "    # bookeeping\n",
    "    # 1. save our new radius\n",
    "    #r = np.append(r, rip1) # WRONG!!\n",
    "    r.append(rip1)\n",
    "    # 2. make sure we update our \"initial\" conditions for the next loop\n",
    "    ri = rip1\n",
    "    vi = vip1\n",
    "    \n",
    "r = np.array(r)\n",
    "#r"
   ]
  },
  {
   "cell_type": "markdown",
   "metadata": {},
   "source": [
    "Plot and compare to analytical solutions."
   ]
  },
  {
   "cell_type": "code",
   "execution_count": 80,
   "metadata": {},
   "outputs": [
    {
     "data": {
      "image/png": "[encoded data removed]",
      "text/plain": [
       "<Figure size 432x288 with 1 Axes>"
      ]
     },
     "metadata": {
      "needs_background": "light"
     },
     "output_type": "display_data"
    }
   ],
   "source": [
    "plt.plot(x/AUinCM,y/AUinCM)\n",
    "plt.plot(r[:,0]/AUinCM, r[:,1]/AUinCM)\n",
    "plt.show()"
   ]
  },
  {
   "cell_type": "markdown",
   "metadata": {},
   "source": [
    "# Full 2-body motion"
   ]
  },
  {
   "cell_type": "code",
   "execution_count": 86,
   "metadata": {},
   "outputs": [],
   "source": [
    "# mStar is in g, rStar is a 2D vector representing \n",
    "#  distance from planet to star with (x,y) componets (in cm)\n",
    "def calcAcc(m2, r1, r2):\n",
    "    # mag(r) = sqrt( r_x^2 + r_y^2 )\n",
    "    mag_r = ((r1[0]-r2[0])**2 + (r1[1]-r2[1])**2)**0.5\n",
    "    # acc due to gravity: a = -G*M/mag_r^2\n",
    "    mag_a = -G*m2/mag_r**2\n",
    "    # direction: is planet is being pulled back toward sun\n",
    "    unitVector = (r1-r2)/mag_r\n",
    "    acc = mag_a*unitVector\n",
    "    return(acc)"
   ]
  },
  {
   "cell_type": "code",
   "execution_count": 87,
   "metadata": {},
   "outputs": [
    {
     "data": {
      "text/plain": [
       "(14960000000000.0, 3500000.0)"
      ]
     },
     "execution_count": 87,
     "metadata": {},
     "output_type": "execute_result"
    }
   ],
   "source": [
    "# initial conditions\n",
    "mass_of_particle1 = 1.0 # Msun\n",
    "rp = 1.0 # AU\n",
    "vp = 35.0 # km/s\n",
    "\n",
    "mass_of_particle1 = mass_of_particle1*MassOfSun\n",
    "vp = vp*kmincm\n",
    "rp = rp*AUinCM\n",
    "\n",
    "rp, vp"
   ]
  },
  {
   "cell_type": "code",
   "execution_count": 88,
   "metadata": {},
   "outputs": [],
   "source": [
    "mass_of_particle2 = 0.0009 # Msun = Mass jupiter\n",
    "mass_of_particle2 = mass_of_particle2*MassOfSun"
   ]
  },
  {
   "cell_type": "code",
   "execution_count": 91,
   "metadata": {},
   "outputs": [
    {
     "data": {
      "text/plain": [
       "array([[1.496e+13, 0.000e+00],\n",
       "       [0.000e+00, 0.000e+00]])"
      ]
     },
     "execution_count": 91,
     "metadata": {},
     "output_type": "execute_result"
    }
   ],
   "source": [
    "r_0 = np.array([[rp, 0], [0,0]])\n",
    "v_0 = np.array([[0, vp], [0,0]])\n",
    "\n",
    "r_0"
   ]
  },
  {
   "cell_type": "code",
   "execution_count": 93,
   "metadata": {},
   "outputs": [
    {
     "data": {
      "text/plain": [
       "(5000, 2, 2)"
      ]
     },
     "execution_count": 93,
     "metadata": {},
     "output_type": "execute_result"
    }
   ],
   "source": [
    "r = []\n",
    "ri = r_0 # initial starting radius\n",
    "vi = v_0 # initial starting velocity\n",
    "for i in range(n_step): # for 50 steps\n",
    "    # first we have to calculate the acceleration of gravity at a particular postion\n",
    "    ag_particle1 = calcAcc(mass_of_particle2, ri[0,:], ri[1,:])\n",
    "    ag_particle2 = calcAcc(mass_of_particle1, ri[1,:], ri[0,:])\n",
    "    # format the acceleration vector to make our lives a bit easier\n",
    "    ag = np.array([ag_particle1, ag_particle2])\n",
    "    # we'll update our velocity based on this acceleration\n",
    "    vip1 = vi + ag*delta_t\n",
    "    # update our position from our new or old velocity\n",
    "    rip1 = ri + vi*delta_t\n",
    "    # bookeeping\n",
    "    # 1. save our new radius\n",
    "    #r = np.append(r, rip1) # WRONG!!\n",
    "    r.append(rip1)\n",
    "    # 2. make sure we update our \"initial\" conditions for the next loop\n",
    "    ri = rip1\n",
    "    vi = vip1\n",
    "    \n",
    "r = np.array(r)\n",
    "r.shape"
   ]
  },
  {
   "cell_type": "code",
   "execution_count": 95,
   "metadata": {},
   "outputs": [
    {
     "data": {
      "image/png": "[encoded data removed]",
      "text/plain": [
       "<Figure size 432x288 with 1 Axes>"
      ]
     },
     "metadata": {
      "needs_background": "light"
     },
     "output_type": "display_data"
    }
   ],
   "source": [
    "plt.plot(r[:,0,0]/AUinCM, r[:,0,1]/AUinCM)\n",
    "plt.plot(r[:,1,0]/AUinCM, r[:,1,1]/AUinCM)\n",
    "plt.show()"
   ]
  },
  {
   "cell_type": "code",
   "execution_count": null,
   "metadata": {},
   "outputs": [],
   "source": []
  }
 ],
 "metadata": {
  "kernelspec": {
   "display_name": "Python 3",
   "language": "python",
   "name": "python3"
  },
  "language_info": {
   "codemirror_mode": {
    "name": "ipython",
    "version": 3
   },
   "file_extension": ".py",
   "mimetype": "text/x-python",
   "name": "python",
   "nbconvert_exporter": "python",
   "pygments_lexer": "ipython3",
   "version": "3.7.3"
  }
 },
 "nbformat": 4,
 "nbformat_minor": 2
}
