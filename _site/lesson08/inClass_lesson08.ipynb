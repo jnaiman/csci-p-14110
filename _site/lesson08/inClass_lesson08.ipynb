{
 "cells": [
  {
   "cell_type": "markdown",
   "metadata": {},
   "source": [
    "# Starting off with ipyvolume for 3D things"
   ]
  },
  {
   "cell_type": "code",
   "execution_count": null,
   "metadata": {},
   "outputs": [],
   "source": [
    "# preferable\n",
    "!conda install -c conda-forge ipyvolume\n",
    "\n",
    "# you can also pip-install\n",
    "!pip install ipyvolume\n",
    "# then you might need:\n",
    "!jupyter nbextension enable --py --sys-prefix ipyvolume\n",
    "!jupyter nbextension enable --py --sys-prefix widgetsnbextension"
   ]
  },
  {
   "cell_type": "code",
   "execution_count": 1,
   "metadata": {},
   "outputs": [],
   "source": [
    "import ipyvolume"
   ]
  },
  {
   "cell_type": "code",
   "execution_count": 3,
   "metadata": {},
   "outputs": [
    {
     "data": {
      "application/vnd.jupyter.widget-view+json": {
       "model_id": "fac19bf82fc349d6a95a3df3bb2b08c9",
       "version_major": 2,
       "version_minor": 0
      },
      "text/plain": [
       "VBox(children=(Figure(camera=PerspectiveCamera(fov=46.0, position=(0.0, 0.0, 2.0), quaternion=(0.0, 0.0, 0.0, …"
      ]
     },
     "metadata": {},
     "output_type": "display_data"
    }
   ],
   "source": [
    "# quick scatter plot\n",
    "import numpy as np\n",
    "x, y, z = np.random.random((3,1000))\n",
    "ipyvolume.quickscatter(x,y,z,size=1,marker='arrow')"
   ]
  },
  {
   "cell_type": "code",
   "execution_count": 5,
   "metadata": {},
   "outputs": [],
   "source": [
    "# import our data that we saved from our simulations\n",
    "from hermite_library import read_hermite_solution_from_file"
   ]
  },
  {
   "cell_type": "code",
   "execution_count": 6,
   "metadata": {},
   "outputs": [],
   "source": [
    "# read in my saved simulation data\n",
    "t_h, E_h, r_h, v_h = read_hermite_solution_from_file('myPlanetSystem_kepler101_solution1.txt')"
   ]
  },
  {
   "cell_type": "code",
   "execution_count": 12,
   "metadata": {},
   "outputs": [
    {
     "data": {
      "text/plain": [
       "((15000,), (15000,), (15000,))"
      ]
     },
     "execution_count": 12,
     "metadata": {},
     "output_type": "execute_result"
    }
   ],
   "source": [
    "# reformat a little bit for plotting\n",
    "x = r_h[:,0,:].ravel() # x-coordinate, all particles, flattened\n",
    "y = r_h[:,1,:].ravel() # y-coor, all particles, flattened\n",
    "z = r_h[:,2,:].ravel() # z-coor, all particles, flattened\n",
    "x.shape, y.shape,z.shape"
   ]
  },
  {
   "cell_type": "code",
   "execution_count": 13,
   "metadata": {},
   "outputs": [
    {
     "data": {
      "application/vnd.jupyter.widget-view+json": {
       "model_id": "d8a6be8904b94bfebfeac31c1786f973",
       "version_major": 2,
       "version_minor": 0
      },
      "text/plain": [
       "VBox(children=(Figure(camera=PerspectiveCamera(fov=46.0, position=(0.0, 0.0, 2.0), quaternion=(0.0, 0.0, 0.0, …"
      ]
     },
     "metadata": {},
     "output_type": "display_data"
    }
   ],
   "source": [
    "# quick scatter plot with my data\n",
    "ipyvolume.quickscatter(x,y,z, size=1, marker='sphere')"
   ]
  },
  {
   "cell_type": "code",
   "execution_count": 16,
   "metadata": {},
   "outputs": [
    {
     "data": {
      "application/vnd.jupyter.widget-view+json": {
       "model_id": "9bed9573c53841349a9c56b7297af548",
       "version_major": 2,
       "version_minor": 0
      },
      "text/plain": [
       "VBox(children=(Figure(camera=PerspectiveCamera(fov=46.0, position=(0.0, 0.0, 2.0), quaternion=(0.0, 0.0, 0.0, …"
      ]
     },
     "metadata": {},
     "output_type": "display_data"
    }
   ],
   "source": [
    "# changing color of particles\n",
    "ipyvolume.figure()\n",
    "colors = ['red','blue','green'] # colors for 3 particles\n",
    "for i in range(r_h.shape[0]): # looping over all the particles in my file\n",
    "    ipyvolume.scatter(r_h[i,0,:], #ith particle, x coord, all timesteps\n",
    "                     r_h[i,1,:], # ith particle, y coord, all times\n",
    "                     r_h[i,2,:], # ith particle, z coord, all times\n",
    "                      color=colors[i], # pull from our color list \n",
    "                      marker='sphere',\n",
    "                     size=0.1)\n",
    "ipyvolume.show() # show the figure"
   ]
  },
  {
   "cell_type": "code",
   "execution_count": 19,
   "metadata": {},
   "outputs": [
    {
     "data": {
      "application/vnd.jupyter.widget-view+json": {
       "model_id": "a6d267893c814ac8916806c6cc9e7250",
       "version_major": 2,
       "version_minor": 0
      },
      "text/plain": [
       "VBox(children=(Figure(camera=PerspectiveCamera(fov=46.0, position=(0.0, 0.0, 2.0), quaternion=(0.0, 0.0, 0.0, …"
      ]
     },
     "metadata": {},
     "output_type": "display_data"
    }
   ],
   "source": [
    "# subsample\n",
    "step = 1000 # plot every 1000th step\n",
    "N = r_h.shape[2] # total number of steps\n",
    "\n",
    "# let's plot velocity vectors\n",
    "ipyvolume.figure()\n",
    "colors = ['red', 'blue', 'green']\n",
    "for i in range(r_h.shape[0]): # loop over all particles\n",
    "    ipyvolume.quiver(r_h[i,0,0:N:step], # ith particle, x coord, now plot every \"step\"\n",
    "                    r_h[i,1,0:N:step], # ith particle, y\n",
    "                    r_h[i,2,0:N:step], # ith particle, z\n",
    "                    v_h[i,0,0:N:step], #   ith part, vx\n",
    "                    v_h[i,1,0:N:step], # ith part, vy\n",
    "                    v_h[i,2,0:N:step], # ith, part, vz\n",
    "                    color=colors[i], size=2)\n",
    "ipyvolume.show()"
   ]
  },
  {
   "cell_type": "code",
   "execution_count": 21,
   "metadata": {},
   "outputs": [
    {
     "data": {
      "text/plain": [
       "(3, 5000)"
      ]
     },
     "execution_count": 21,
     "metadata": {},
     "output_type": "execute_result"
    }
   ],
   "source": [
    "r_h[:,0,:].shape # x-coord"
   ]
  },
  {
   "cell_type": "code",
   "execution_count": 22,
   "metadata": {},
   "outputs": [
    {
     "data": {
      "text/plain": [
       "(5000, 3)"
      ]
     },
     "execution_count": 22,
     "metadata": {},
     "output_type": "execute_result"
    }
   ],
   "source": [
    "# take transpose\n",
    "r_h[:,0,:].T.shape # a formating type thing, ipyvolume needs this shape for animations"
   ]
  },
  {
   "cell_type": "code",
   "execution_count": 23,
   "metadata": {},
   "outputs": [
    {
     "data": {
      "text/plain": [
       "(3, 3, 500)"
      ]
     },
     "execution_count": 23,
     "metadata": {},
     "output_type": "execute_result"
    }
   ],
   "source": [
    "nstep = 10 # do an animation every 10th timestep\n",
    "N = r_h.shape[2] # number of total time steps\n",
    "\n",
    "# subsample for less # of frames\n",
    "#r = r_h[:,:,0:-1:nstep] # all particles, all coordinates, sub-sampled times\n",
    "r = r_h[:,:,0:N:nstep] # all particles, all coordinates, sub-sampled times\n",
    "\n",
    "r.shape"
   ]
  },
  {
   "cell_type": "code",
   "execution_count": 24,
   "metadata": {},
   "outputs": [],
   "source": [
    "#           red        green    blue\n",
    "colors = [ (1, 0, 0), (0,1,0), (0,0,1)]"
   ]
  },
  {
   "cell_type": "code",
   "execution_count": 26,
   "metadata": {},
   "outputs": [
    {
     "data": {
      "text/plain": [
       "(500, 3, 3)"
      ]
     },
     "execution_count": 26,
     "metadata": {},
     "output_type": "execute_result"
    }
   ],
   "source": [
    "# little function to format colors\n",
    "from flip_colors import flip_colors\n",
    "\n",
    "colors = flip_colors(colors,r) # taking my 3 \n",
    "\n",
    "colors.shape"
   ]
  },
  {
   "cell_type": "code",
   "execution_count": null,
   "metadata": {},
   "outputs": [],
   "source": [
    "# finally make animation\n",
    "ipyvolume.figure()\n",
    "\n",
    "s = ipyvolume.scatter(r[:,0,:].T, r[:,1,:].T, r[:,2,:].T, \n",
    "                     marker='sphere',\n",
    "                     color=colors)"
   ]
  }
 ],
 "metadata": {
  "kernelspec": {
   "display_name": "Python 3",
   "language": "python",
   "name": "python3"
  },
  "language_info": {
   "codemirror_mode": {
    "name": "ipython",
    "version": 3
   },
   "file_extension": ".py",
   "mimetype": "text/x-python",
   "name": "python",
   "nbconvert_exporter": "python",
   "pygments_lexer": "ipython3",
   "version": "3.7.3"
  }
 },
 "nbformat": 4,
 "nbformat_minor": 2
}
