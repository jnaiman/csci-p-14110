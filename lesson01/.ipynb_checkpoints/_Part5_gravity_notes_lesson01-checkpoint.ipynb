{
 "cells": [
  {
   "cell_type": "markdown",
   "metadata": {},
   "source": [
    "# Day 1, Part 5: Gravity experiement\n",
    "Taking from: https://nbviewer.jupyter.org/github/engineersCode/EngComp3_tourdynamics/blob/master/notebooks_en/1_Catch_Motion.ipynb\n",
    "\n",
    "BSD 3-Clause License\n",
    "\n",
    "Copyright (c) 2018, engineersCode\n",
    "All rights reserved."
   ]
  },
  {
   "cell_type": "code",
   "execution_count": 1,
   "metadata": {},
   "outputs": [],
   "source": [
    "import numpy as np\n",
    "import matplotlib.pyplot as plt"
   ]
  },
  {
   "cell_type": "code",
   "execution_count": 2,
   "metadata": {},
   "outputs": [],
   "source": [
    "# a library to do some image manipulation\n",
    "import imageio"
   ]
  },
  {
   "cell_type": "markdown",
   "metadata": {},
   "source": [
    "With the ```get_reader()``` method of ```imageio```, you can read a video from its source into a Reader object. You don't need to worry too much about the technicalities here—we'll walk you through it all—but check the type, the length (for a video, that's number of frames), and notice you can get info, like the frames-per-second, using ```get_meta_data()```."
   ]
  },
  {
   "cell_type": "code",
   "execution_count": 4,
   "metadata": {},
   "outputs": [
    {
     "name": "stdout",
     "output_type": "stream",
     "text": [
      "Collecting imageio-ffmpeg\n",
      "\u001b[?25l  Downloading https://files.pythonhosted.org/packages/44/55/fd5e2e3a74870037244cf85e921eb6220ecdfd104fe231c22dc032f855d5/imageio_ffmpeg-0.3.0-py3-none-macosx_10_9_intel.macosx_10_9_x86_64.macosx_10_10_intel.macosx_10_10_x86_64.whl (20.7MB)\n",
      "\u001b[K    100% |████████████████████████████████| 20.7MB 1.1MB/s ta 0:00:011\n",
      "\u001b[?25hInstalling collected packages: imageio-ffmpeg\n",
      "Successfully installed imageio-ffmpeg-0.3.0\n"
     ]
    }
   ],
   "source": [
    "# note, you may get the following error:\n",
    "#ImportError: To use the imageio ffmpeg plugin you need to 'pip install imageio-ffmpeg'\n",
    "# so then, do what they say!\n",
    "\n",
    "!pip install imageio-ffmpeg\n",
    "# note the \"!\" is an escape character we need to get it to work\n",
    "\n",
    "reader = imageio.get_reader('https://d3tsb3m56iwvoq.cloudfront.net/transcoded/techtv/a054739f22d04659b13f05e44879952a/hd.mp4')"
   ]
  },
  {
   "cell_type": "code",
   "execution_count": null,
   "metadata": {},
   "outputs": [],
   "source": []
  }
 ],
 "metadata": {
  "kernelspec": {
   "display_name": "Python 3",
   "language": "python",
   "name": "python3"
  },
  "language_info": {
   "codemirror_mode": {
    "name": "ipython",
    "version": 3
   },
   "file_extension": ".py",
   "mimetype": "text/x-python",
   "name": "python",
   "nbconvert_exporter": "python",
   "pygments_lexer": "ipython3",
   "version": "3.7.3"
  }
 },
 "nbformat": 4,
 "nbformat_minor": 2
}
