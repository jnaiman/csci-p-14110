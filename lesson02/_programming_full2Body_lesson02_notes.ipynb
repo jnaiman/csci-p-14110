{
 "cells": [
  {
   "cell_type": "markdown",
   "metadata": {},
   "source": [
    "## Full 2-body motion - seperate file!!!\n",
    "Notice the above has assumed that we have a planet that has a mass that is much less than the mass of the planet.\n",
    "\n",
    "But what about if we have 2 stars orbiting eachother?  Can we still use this thinking?\n",
    "\n",
    "It turns out we can!  We just have to re-write a few things."
   ]
  },
  {
   "cell_type": "code",
   "execution_count": 1,
   "metadata": {},
   "outputs": [],
   "source": [
    "# force/mass for particle mi\n",
    "#def calcAcc(mj, ri, rj):\n",
    "#    mag_r = np.sqrt( (ri-rj).dot(ri-rj) )\n",
    "#    return -G*mj*(ri - rj)/mag_r**3.0\n"
   ]
  },
  {
   "cell_type": "code",
   "execution_count": null,
   "metadata": {},
   "outputs": [],
   "source": []
  },
  {
   "cell_type": "code",
   "execution_count": null,
   "metadata": {},
   "outputs": [],
   "source": []
  },
  {
   "cell_type": "markdown",
   "metadata": {},
   "source": [
    "# 1. Matplotlib plots ?  then exercises?  \n",
    "* see also https://sites.google.com/a/ucsc.edu/krumholz/teaching-and-courses/python-15/class-3\n",
    "\n",
    "# 2. Reading files \n",
    "* see https://sites.google.com/a/ucsc.edu/krumholz/teaching-and-courses/python-15/class-4"
   ]
  },
  {
   "cell_type": "markdown",
   "metadata": {},
   "source": [
    "# 3. Plot 2-body analytical plots"
   ]
  },
  {
   "cell_type": "code",
   "execution_count": 85,
   "metadata": {},
   "outputs": [],
   "source": [
    "# mass of particle 1 in solar masses\n",
    "m1 = 1.0\n",
    "# mass of particle 2 in jupiter masses\n",
    "m2 = 1.0 \n",
    "# distance of m2 at closest approach (pericenter)\n",
    "rp = 1.0 # in AU\n",
    "# velocity of m2 at this closest approach distance\n",
    "vp = 30.0 # in km/s\n",
    "\n",
    "vp = 42.0 # very elliptical\n",
    "\n",
    "#vp = 43.0 # km/s, hyperbola"
   ]
  },
  {
   "cell_type": "code",
   "execution_count": 86,
   "metadata": {},
   "outputs": [],
   "source": [
    "# lets convert these to physical units using definitions in an external library\n",
    "from analytical_solution_library import MassOfSun, MassOfJupiter, AUinCM, kmincm, G"
   ]
  },
  {
   "cell_type": "code",
   "execution_count": 87,
   "metadata": {},
   "outputs": [],
   "source": [
    "# convert coordinates\n",
    "m1 = m1*MassOfSun\n",
    "m2 = m2*MassOfJupiter\n",
    "vp = vp*kmincm\n",
    "rp = rp*AUinCM\n"
   ]
  },
  {
   "cell_type": "code",
   "execution_count": 88,
   "metadata": {},
   "outputs": [],
   "source": [
    "import numpy as np\n",
    "import matplotlib.pyplot as plt\n",
    "import time\n",
    "import math\n"
   ]
  },
  {
   "cell_type": "code",
   "execution_count": 89,
   "metadata": {},
   "outputs": [],
   "source": [
    "# analytically here are the constants we need to define to solve:\n",
    "ecc = rp*vp*vp/(G*(m1+m2)) - 1.0\n",
    "a = rp/(1.0 - ecc)\n"
   ]
  },
  {
   "cell_type": "code",
   "execution_count": 90,
   "metadata": {},
   "outputs": [],
   "source": [
    "# Energy - from KE + PE with the viral theorem\n",
    "energy = -G*m1*m2/(2.0*a)"
   ]
  },
  {
   "cell_type": "code",
   "execution_count": 91,
   "metadata": {},
   "outputs": [
    {
     "data": {
      "image/png": "[encoded data removed]",
      "text/plain": [
       "<Figure size 720x720 with 1 Axes>"
      ]
     },
     "metadata": {
      "needs_background": "light"
     },
     "output_type": "display_data"
    }
   ],
   "source": [
    "# now, generate the theta array\n",
    "ntheta = 500 # number of points for theta\n",
    "th_an = np.linspace(0, 360, ntheta) # make theta vector\n",
    "\n",
    "# now, create r(theta)\n",
    "r_an = (a*(1-ecc*ecc))/(1.0 + ecc*np.cos( th_an*np.pi/180.0 ))\n",
    "\n",
    "# for plotting -> x/y coords for m2\n",
    "x_an = r_an*np.cos( th_an*np.pi/180.0 )/AUinCM\n",
    "y_an = r_an*np.sin( th_an*np.pi/180.0 )/AUinCM\n",
    "\n",
    "\n",
    "# EXTRAS:\n",
    "e_an = energy # for energy plot\n",
    "l_an = m2*rp*vp # for angular momentum plot\n",
    "\n",
    "#y_an = y_an[x_an <0]\n",
    "#x_an = x_an[x_an < 0]\n",
    "\n",
    "# ------------------ PLOTTING ----------------------  \n",
    "\n",
    "# plot x/y coords\n",
    "fig, ax = plt.subplots(1, figsize = (10, 10))\n",
    "fig.suptitle('Coordinates Plot')\n",
    "\n",
    "# plot the ellipse\n",
    "#ax.plot(x_an, y_an, linewidth=5)\n",
    "ax.plot(x_an,y_an, 'o')\n",
    "ax.plot(0.0, 0.0, 'kx') # plot an \"X\" where the sun is\n",
    "ax.set_xlabel('x in AU')\n",
    "ax.set_ylabel('y in AU')\n",
    "#ax.set_ylim(-200,200)\n",
    "#ax.set_xlim(-200,200)\n",
    "\n",
    "\n",
    "plt.show()"
   ]
  },
  {
   "cell_type": "code",
   "execution_count": 64,
   "metadata": {},
   "outputs": [
    {
     "name": "stdout",
     "output_type": "stream",
     "text": [
      "Energy > 0: This will be a hyperbolic orbit, not continuing\n"
     ]
    },
    {
     "ename": "SystemExit",
     "evalue": "",
     "output_type": "error",
     "traceback": [
      "An exception has occurred, use %tb to see the full traceback.\n",
      "\u001b[0;31mSystemExit\u001b[0m\n"
     ]
    }
   ],
   "source": [
    "# here are some checks to see what kind of orbit we are using\n",
    "if energy > 0:\n",
    "    print('Energy > 0: This will be a hyperbolic orbit, not continuing')\n",
    "    import sys\n",
    "    sys.exit()\n",
    "\n",
    "if energy == 0:\n",
    "    print('Energy = 0: This will be a parabolic orbit, not continuing')\n",
    "    import sys\n",
    "    sys.exit()\n",
    "\n",
    "# check if eccentricity < 0\n",
    "if ecc < 0:\n",
    "    print('Eccetricity < 0: not continuing')\n",
    "    import sys\n",
    "    sys.exit()\n"
   ]
  },
  {
   "cell_type": "code",
   "execution_count": 65,
   "metadata": {},
   "outputs": [
    {
     "data": {
      "text/plain": [
       "array([  0.        ,   0.72144289,   1.44288577,   2.16432866,\n",
       "         2.88577154,   3.60721443,   4.32865731,   5.0501002 ,\n",
       "         5.77154309,   6.49298597,   7.21442886,   7.93587174,\n",
       "         8.65731463,   9.37875752,  10.1002004 ,  10.82164329,\n",
       "        11.54308617,  12.26452906,  12.98597194,  13.70741483,\n",
       "        14.42885772,  15.1503006 ,  15.87174349,  16.59318637,\n",
       "        17.31462926,  18.03607214,  18.75751503,  19.47895792,\n",
       "        20.2004008 ,  20.92184369,  21.64328657,  22.36472946,\n",
       "        23.08617234,  23.80761523,  24.52905812,  25.250501  ,\n",
       "        25.97194389,  26.69338677,  27.41482966,  28.13627255,\n",
       "        28.85771543,  29.57915832,  30.3006012 ,  31.02204409,\n",
       "        31.74348697,  32.46492986,  33.18637275,  33.90781563,\n",
       "        34.62925852,  35.3507014 ,  36.07214429,  36.79358717,\n",
       "        37.51503006,  38.23647295,  38.95791583,  39.67935872,\n",
       "        40.4008016 ,  41.12224449,  41.84368737,  42.56513026,\n",
       "        43.28657315,  44.00801603,  44.72945892,  45.4509018 ,\n",
       "        46.17234469,  46.89378758,  47.61523046,  48.33667335,\n",
       "        49.05811623,  49.77955912,  50.501002  ,  51.22244489,\n",
       "        51.94388778,  52.66533066,  53.38677355,  54.10821643,\n",
       "        54.82965932,  55.5511022 ,  56.27254509,  56.99398798,\n",
       "        57.71543086,  58.43687375,  59.15831663,  59.87975952,\n",
       "        60.6012024 ,  61.32264529,  62.04408818,  62.76553106,\n",
       "        63.48697395,  64.20841683,  64.92985972,  65.65130261,\n",
       "        66.37274549,  67.09418838,  67.81563126,  68.53707415,\n",
       "        69.25851703,  69.97995992,  70.70140281,  71.42284569,\n",
       "        72.14428858,  72.86573146,  73.58717435,  74.30861723,\n",
       "        75.03006012,  75.75150301,  76.47294589,  77.19438878,\n",
       "        77.91583166,  78.63727455,  79.35871743,  80.08016032,\n",
       "        80.80160321,  81.52304609,  82.24448898,  82.96593186,\n",
       "        83.68737475,  84.40881764,  85.13026052,  85.85170341,\n",
       "        86.57314629,  87.29458918,  88.01603206,  88.73747495,\n",
       "        89.45891784,  90.18036072,  90.90180361,  91.62324649,\n",
       "        92.34468938,  93.06613226,  93.78757515,  94.50901804,\n",
       "        95.23046092,  95.95190381,  96.67334669,  97.39478958,\n",
       "        98.11623246,  98.83767535,  99.55911824, 100.28056112,\n",
       "       101.00200401, 101.72344689, 102.44488978, 103.16633267,\n",
       "       103.88777555, 104.60921844, 105.33066132, 106.05210421,\n",
       "       106.77354709, 107.49498998, 108.21643287, 108.93787575,\n",
       "       109.65931864, 110.38076152, 111.10220441, 111.82364729,\n",
       "       112.54509018, 113.26653307, 113.98797595, 114.70941884,\n",
       "       115.43086172, 116.15230461, 116.87374749, 117.59519038,\n",
       "       118.31663327, 119.03807615, 119.75951904, 120.48096192,\n",
       "       121.20240481, 121.9238477 , 122.64529058, 123.36673347,\n",
       "       124.08817635, 124.80961924, 125.53106212, 126.25250501,\n",
       "       126.9739479 , 127.69539078, 128.41683367, 129.13827655,\n",
       "       129.85971944, 130.58116232, 131.30260521, 132.0240481 ,\n",
       "       132.74549098, 133.46693387, 134.18837675, 134.90981964,\n",
       "       135.63126253, 136.35270541, 137.0741483 , 137.79559118,\n",
       "       138.51703407, 139.23847695, 139.95991984, 140.68136273,\n",
       "       141.40280561, 142.1242485 , 142.84569138, 143.56713427,\n",
       "       144.28857715, 145.01002004, 145.73146293, 146.45290581,\n",
       "       147.1743487 , 147.89579158, 148.61723447, 149.33867735,\n",
       "       150.06012024, 150.78156313, 151.50300601, 152.2244489 ,\n",
       "       152.94589178, 153.66733467, 154.38877756, 155.11022044,\n",
       "       155.83166333, 156.55310621, 157.2745491 , 157.99599198,\n",
       "       158.71743487, 159.43887776, 160.16032064, 160.88176353,\n",
       "       161.60320641, 162.3246493 , 163.04609218, 163.76753507,\n",
       "       164.48897796, 165.21042084, 165.93186373, 166.65330661,\n",
       "       167.3747495 , 168.09619238, 168.81763527, 169.53907816,\n",
       "       170.26052104, 170.98196393, 171.70340681, 172.4248497 ,\n",
       "       173.14629259, 173.86773547, 174.58917836, 175.31062124,\n",
       "       176.03206413, 176.75350701, 177.4749499 , 178.19639279,\n",
       "       178.91783567, 179.63927856, 180.36072144, 181.08216433,\n",
       "       181.80360721, 182.5250501 , 183.24649299, 183.96793587,\n",
       "       184.68937876, 185.41082164, 186.13226453, 186.85370741,\n",
       "       187.5751503 , 188.29659319, 189.01803607, 189.73947896,\n",
       "       190.46092184, 191.18236473, 191.90380762, 192.6252505 ,\n",
       "       193.34669339, 194.06813627, 194.78957916, 195.51102204,\n",
       "       196.23246493, 196.95390782, 197.6753507 , 198.39679359,\n",
       "       199.11823647, 199.83967936, 200.56112224, 201.28256513,\n",
       "       202.00400802, 202.7254509 , 203.44689379, 204.16833667,\n",
       "       204.88977956, 205.61122244, 206.33266533, 207.05410822,\n",
       "       207.7755511 , 208.49699399, 209.21843687, 209.93987976,\n",
       "       210.66132265, 211.38276553, 212.10420842, 212.8256513 ,\n",
       "       213.54709419, 214.26853707, 214.98997996, 215.71142285,\n",
       "       216.43286573, 217.15430862, 217.8757515 , 218.59719439,\n",
       "       219.31863727, 220.04008016, 220.76152305, 221.48296593,\n",
       "       222.20440882, 222.9258517 , 223.64729459, 224.36873747,\n",
       "       225.09018036, 225.81162325, 226.53306613, 227.25450902,\n",
       "       227.9759519 , 228.69739479, 229.41883768, 230.14028056,\n",
       "       230.86172345, 231.58316633, 232.30460922, 233.0260521 ,\n",
       "       233.74749499, 234.46893788, 235.19038076, 235.91182365,\n",
       "       236.63326653, 237.35470942, 238.0761523 , 238.79759519,\n",
       "       239.51903808, 240.24048096, 240.96192385, 241.68336673,\n",
       "       242.40480962, 243.12625251, 243.84769539, 244.56913828,\n",
       "       245.29058116, 246.01202405, 246.73346693, 247.45490982,\n",
       "       248.17635271, 248.89779559, 249.61923848, 250.34068136,\n",
       "       251.06212425, 251.78356713, 252.50501002, 253.22645291,\n",
       "       253.94789579, 254.66933868, 255.39078156, 256.11222445,\n",
       "       256.83366733, 257.55511022, 258.27655311, 258.99799599,\n",
       "       259.71943888, 260.44088176, 261.16232465, 261.88376754,\n",
       "       262.60521042, 263.32665331, 264.04809619, 264.76953908,\n",
       "       265.49098196, 266.21242485, 266.93386774, 267.65531062,\n",
       "       268.37675351, 269.09819639, 269.81963928, 270.54108216,\n",
       "       271.26252505, 271.98396794, 272.70541082, 273.42685371,\n",
       "       274.14829659, 274.86973948, 275.59118236, 276.31262525,\n",
       "       277.03406814, 277.75551102, 278.47695391, 279.19839679,\n",
       "       279.91983968, 280.64128257, 281.36272545, 282.08416834,\n",
       "       282.80561122, 283.52705411, 284.24849699, 284.96993988,\n",
       "       285.69138277, 286.41282565, 287.13426854, 287.85571142,\n",
       "       288.57715431, 289.29859719, 290.02004008, 290.74148297,\n",
       "       291.46292585, 292.18436874, 292.90581162, 293.62725451,\n",
       "       294.34869739, 295.07014028, 295.79158317, 296.51302605,\n",
       "       297.23446894, 297.95591182, 298.67735471, 299.3987976 ,\n",
       "       300.12024048, 300.84168337, 301.56312625, 302.28456914,\n",
       "       303.00601202, 303.72745491, 304.4488978 , 305.17034068,\n",
       "       305.89178357, 306.61322645, 307.33466934, 308.05611222,\n",
       "       308.77755511, 309.498998  , 310.22044088, 310.94188377,\n",
       "       311.66332665, 312.38476954, 313.10621242, 313.82765531,\n",
       "       314.5490982 , 315.27054108, 315.99198397, 316.71342685,\n",
       "       317.43486974, 318.15631263, 318.87775551, 319.5991984 ,\n",
       "       320.32064128, 321.04208417, 321.76352705, 322.48496994,\n",
       "       323.20641283, 323.92785571, 324.6492986 , 325.37074148,\n",
       "       326.09218437, 326.81362725, 327.53507014, 328.25651303,\n",
       "       328.97795591, 329.6993988 , 330.42084168, 331.14228457,\n",
       "       331.86372745, 332.58517034, 333.30661323, 334.02805611,\n",
       "       334.749499  , 335.47094188, 336.19238477, 336.91382766,\n",
       "       337.63527054, 338.35671343, 339.07815631, 339.7995992 ,\n",
       "       340.52104208, 341.24248497, 341.96392786, 342.68537074,\n",
       "       343.40681363, 344.12825651, 344.8496994 , 345.57114228,\n",
       "       346.29258517, 347.01402806, 347.73547094, 348.45691383,\n",
       "       349.17835671, 349.8997996 , 350.62124248, 351.34268537,\n",
       "       352.06412826, 352.78557114, 353.50701403, 354.22845691,\n",
       "       354.9498998 , 355.67134269, 356.39278557, 357.11422846,\n",
       "       357.83567134, 358.55711423, 359.27855711])"
      ]
     },
     "execution_count": 65,
     "metadata": {},
     "output_type": "execute_result"
    }
   ],
   "source": [
    "th_an"
   ]
  },
  {
   "cell_type": "code",
   "execution_count": null,
   "metadata": {},
   "outputs": [],
   "source": []
  }
 ],
 "metadata": {
  "kernelspec": {
   "display_name": "Python 3",
   "language": "python",
   "name": "python3"
  },
  "language_info": {
   "codemirror_mode": {
    "name": "ipython",
    "version": 3
   },
   "file_extension": ".py",
   "mimetype": "text/x-python",
   "name": "python",
   "nbconvert_exporter": "python",
   "pygments_lexer": "ipython3",
   "version": "3.7.3"
  }
 },
 "nbformat": 4,
 "nbformat_minor": 2
}
