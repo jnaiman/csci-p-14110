{
 "cells": [
  {
   "cell_type": "markdown",
   "metadata": {},
   "source": [
    "# Reading and writing data\n",
    "Let's first do a bit of book keeping - figuring out how to read and write data.  The easiest way to do this is with some built in functions in numpy.\n",
    "\n",
    "We'll start by importing our usual things:"
   ]
  },
  {
   "cell_type": "code",
   "execution_count": 1,
   "metadata": {},
   "outputs": [],
   "source": [
    "import numpy as np\n",
    "import matplotlib.pyplot as plt\n",
    "%matplotlib inline"
   ]
  },
  {
   "cell_type": "markdown",
   "metadata": {},
   "source": [
    "Let's start by making a fake time and a fake angle array:"
   ]
  },
  {
   "cell_type": "code",
   "execution_count": 2,
   "metadata": {},
   "outputs": [],
   "source": [
    "t = np.array([5, 6, 7, 8])\n",
    "angle = np.array([36.0, 42.5, 44, 85])"
   ]
  },
  {
   "cell_type": "markdown",
   "metadata": {},
   "source": [
    "And now we can simply save it with ```np.savetxt```:"
   ]
  },
  {
   "cell_type": "code",
   "execution_count": 3,
   "metadata": {},
   "outputs": [],
   "source": [
    "np.savetxt('mytxtfile.txt', [t,angle], delimiter=',')"
   ]
  },
  {
   "cell_type": "markdown",
   "metadata": {},
   "source": [
    "We can also take a gander at this file!"
   ]
  },
  {
   "cell_type": "code",
   "execution_count": 6,
   "metadata": {},
   "outputs": [
    {
     "name": "stdout",
     "output_type": "stream",
     "text": [
      "5.000000000000000000e+00,6.000000000000000000e+00,7.000000000000000000e+00,8.000000000000000000e+00\r\n",
      "3.600000000000000000e+01,4.250000000000000000e+01,4.400000000000000000e+01,8.500000000000000000e+01\r\n"
     ]
    }
   ],
   "source": [
    "!head mytxtfile.txt"
   ]
  },
  {
   "cell_type": "markdown",
   "metadata": {},
   "source": [
    "So we can see from the above that what we have is a bunch of ```float``` types where the first line is the time and the 2nd line is the angle.  We can then re-read these in:"
   ]
  },
  {
   "cell_type": "code",
   "execution_count": 8,
   "metadata": {},
   "outputs": [
    {
     "data": {
      "text/plain": [
       "array([[ 5. ,  6. ,  7. ,  8. ],\n",
       "       [36. , 42.5, 44. , 85. ]])"
      ]
     },
     "execution_count": 8,
     "metadata": {},
     "output_type": "execute_result"
    }
   ],
   "source": [
    "data = np.genfromtxt('mytxtfile.txt', delimiter=',')\n",
    "data"
   ]
  },
  {
   "cell_type": "markdown",
   "metadata": {},
   "source": [
    "So now we have our data back in a data array.  There are a few ways to format this, we can do:"
   ]
  },
  {
   "cell_type": "code",
   "execution_count": 11,
   "metadata": {},
   "outputs": [
    {
     "data": {
      "text/plain": [
       "(array([5., 6., 7., 8.]), array([36. , 42.5, 44. , 85. ]))"
      ]
     },
     "execution_count": 11,
     "metadata": {},
     "output_type": "execute_result"
    }
   ],
   "source": [
    "t_in = data[0,:]; angle_in = data[1,:]\n",
    "\n",
    "t_in, angle_in"
   ]
  },
  {
   "cell_type": "markdown",
   "metadata": {},
   "source": [
    "We can also do this on read-in:"
   ]
  },
  {
   "cell_type": "code",
   "execution_count": 14,
   "metadata": {},
   "outputs": [
    {
     "data": {
      "text/plain": [
       "(array([5., 6., 7., 8.]), array([36. , 42.5, 44. , 85. ]))"
      ]
     },
     "execution_count": 14,
     "metadata": {},
     "output_type": "execute_result"
    }
   ],
   "source": [
    "t_in = []; angle_in = []\n",
    "t_in, angle_in = np.genfromtxt('mytxtfile.txt', delimiter=',')\n",
    "\n",
    "t_in, angle_in"
   ]
  },
  {
   "cell_type": "markdown",
   "metadata": {},
   "source": [
    "Or we can actually name our array like so:"
   ]
  },
  {
   "cell_type": "code",
   "execution_count": 18,
   "metadata": {},
   "outputs": [
    {
     "data": {
      "text/plain": [
       "array([( 5.,  6. ), (36., 42.5)],\n",
       "      dtype=[('Time', '<f4'), ('Angle', '<f4')])"
      ]
     },
     "execution_count": 18,
     "metadata": {},
     "output_type": "execute_result"
    }
   ],
   "source": [
    "names = ('Time', 'Angle')\n",
    "formats = ('f4', 'f4')\n",
    "\n",
    "named_data = np.genfromtxt('mytxtfile.txt', \n",
    "                           delimiter=',', \n",
    "                           dtype={'names':names, \n",
    "                                  'formats':formats})\n",
    "\n",
    "named_data\n"
   ]
  },
  {
   "cell_type": "markdown",
   "metadata": {},
   "source": [
    "We can then access our data like so:"
   ]
  },
  {
   "cell_type": "code",
   "execution_count": 16,
   "metadata": {},
   "outputs": [
    {
     "data": {
      "text/plain": [
       "array([ 5., 36.], dtype=float32)"
      ]
     },
     "execution_count": 16,
     "metadata": {},
     "output_type": "execute_result"
    }
   ],
   "source": [
    "named_data['Time']"
   ]
  },
  {
   "cell_type": "markdown",
   "metadata": {},
   "source": [
    "However, note that our data is not properly formatted - this is because when we specify names and formats, it expects comments.  To use this feature, we should save like:"
   ]
  },
  {
   "cell_type": "code",
   "execution_count": 19,
   "metadata": {},
   "outputs": [
    {
     "name": "stdout",
     "output_type": "stream",
     "text": [
      "5.000000000000000000e+00,3.600000000000000000e+01\r\n",
      "6.000000000000000000e+00,4.250000000000000000e+01\r\n",
      "7.000000000000000000e+00,4.400000000000000000e+01\r\n",
      "8.000000000000000000e+00,8.500000000000000000e+01\r\n"
     ]
    }
   ],
   "source": [
    "np.savetxt('mytxtfile.txt', np.array([t,angle]).T, delimiter=',')\n",
    "\n",
    "!head mytxtfile.txt"
   ]
  },
  {
   "cell_type": "markdown",
   "metadata": {},
   "source": [
    "What we did above is transform our list of arrays to an array of arrays, and took the transpose with ```.T``` - then things are output as columns.  So when we read in:"
   ]
  },
  {
   "cell_type": "code",
   "execution_count": 20,
   "metadata": {},
   "outputs": [
    {
     "data": {
      "text/plain": [
       "array([(5., 36. ), (6., 42.5), (7., 44. ), (8., 85. )],\n",
       "      dtype=[('Time', '<f4'), ('Angle', '<f4')])"
      ]
     },
     "execution_count": 20,
     "metadata": {},
     "output_type": "execute_result"
    }
   ],
   "source": [
    "names = ('Time', 'Angle')\n",
    "formats = ('f4', 'f4')\n",
    "\n",
    "named_data = np.genfromtxt('mytxtfile.txt', \n",
    "                           delimiter=',', \n",
    "                           dtype={'names':names, \n",
    "                                  'formats':formats})\n",
    "\n",
    "named_data"
   ]
  },
  {
   "cell_type": "code",
   "execution_count": 22,
   "metadata": {},
   "outputs": [
    {
     "data": {
      "text/plain": [
       "(array([5., 6., 7., 8.], dtype=float32),\n",
       " array([36. , 42.5, 44. , 85. ], dtype=float32))"
      ]
     },
     "execution_count": 22,
     "metadata": {},
     "output_type": "execute_result"
    }
   ],
   "source": [
    "named_data['Time'], named_data['Angle']"
   ]
  },
  {
   "cell_type": "markdown",
   "metadata": {},
   "source": [
    "So this now works just fine!"
   ]
  },
  {
   "cell_type": "code",
   "execution_count": null,
   "metadata": {},
   "outputs": [],
   "source": []
  }
 ],
 "metadata": {
  "kernelspec": {
   "display_name": "Python 3",
   "language": "python",
   "name": "python3"
  },
  "language_info": {
   "codemirror_mode": {
    "name": "ipython",
    "version": 3
   },
   "file_extension": ".py",
   "mimetype": "text/x-python",
   "name": "python",
   "nbconvert_exporter": "python",
   "pygments_lexer": "ipython3",
   "version": "3.7.3"
  }
 },
 "nbformat": 4,
 "nbformat_minor": 2
}
