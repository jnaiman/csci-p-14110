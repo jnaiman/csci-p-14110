{
 "cells": [
  {
   "cell_type": "markdown",
   "metadata": {},
   "source": [
    "# Reading and writing data\n",
    "Let's first do a bit of book keeping - figuring out how to read and write data.  The easiest way to do this is with some built in functions in numpy.\n",
    "\n",
    "We'll start by importing our usual things:"
   ]
  },
  {
   "cell_type": "code",
   "execution_count": 1,
   "metadata": {},
   "outputs": [],
   "source": [
    "import numpy as np\n",
    "import matplotlib.pyplot as plt\n",
    "%matplotlib inline"
   ]
  },
  {
   "cell_type": "markdown",
   "metadata": {},
   "source": [
    "Let's start by making a fake time and a fake angle array:"
   ]
  },
  {
   "cell_type": "code",
   "execution_count": 2,
   "metadata": {},
   "outputs": [],
   "source": [
    "t = np.array([5, 6, 7, 8])\n",
    "angle = np.array([36.0, 42.5, 44, 85])"
   ]
  },
  {
   "cell_type": "markdown",
   "metadata": {},
   "source": [
    "And now we can simply save it with ```np.savetxt```:"
   ]
  },
  {
   "cell_type": "code",
   "execution_count": 3,
   "metadata": {},
   "outputs": [],
   "source": [
    "np.savetxt('mytxtfile.txt', [t,angle], delimiter=',')"
   ]
  },
  {
   "cell_type": "markdown",
   "metadata": {},
   "source": [
    "We can also take a gander at this file!"
   ]
  },
  {
   "cell_type": "code",
   "execution_count": 4,
   "metadata": {},
   "outputs": [
    {
     "name": "stdout",
     "output_type": "stream",
     "text": [
      "5.000000000000000000e+00,6.000000000000000000e+00,7.000000000000000000e+00,8.000000000000000000e+00\r\n",
      "3.600000000000000000e+01,4.250000000000000000e+01,4.400000000000000000e+01,8.500000000000000000e+01\r\n"
     ]
    }
   ],
   "source": [
    "!head mytxtfile.txt"
   ]
  },
  {
   "cell_type": "markdown",
   "metadata": {},
   "source": [
    "So we can see from the above that what we have is a bunch of ```float``` types where the first line is the time and the 2nd line is the angle.  We can then re-read these in:"
   ]
  },
  {
   "cell_type": "code",
   "execution_count": 5,
   "metadata": {},
   "outputs": [
    {
     "data": {
      "text/plain": [
       "array([[ 5. ,  6. ,  7. ,  8. ],\n",
       "       [36. , 42.5, 44. , 85. ]])"
      ]
     },
     "execution_count": 5,
     "metadata": {},
     "output_type": "execute_result"
    }
   ],
   "source": [
    "data = np.genfromtxt('mytxtfile.txt', delimiter=',')\n",
    "data"
   ]
  },
  {
   "cell_type": "markdown",
   "metadata": {},
   "source": [
    "So now we have our data back in a data array.  There are a few ways to format this, we can do:"
   ]
  },
  {
   "cell_type": "code",
   "execution_count": 6,
   "metadata": {},
   "outputs": [
    {
     "data": {
      "text/plain": [
       "(array([5., 6., 7., 8.]), array([36. , 42.5, 44. , 85. ]))"
      ]
     },
     "execution_count": 6,
     "metadata": {},
     "output_type": "execute_result"
    }
   ],
   "source": [
    "t_in = data[0,:]; angle_in = data[1,:]\n",
    "\n",
    "t_in, angle_in"
   ]
  },
  {
   "cell_type": "markdown",
   "metadata": {},
   "source": [
    "We can also do this on read-in:"
   ]
  },
  {
   "cell_type": "code",
   "execution_count": 7,
   "metadata": {},
   "outputs": [
    {
     "data": {
      "text/plain": [
       "(array([5., 6., 7., 8.]), array([36. , 42.5, 44. , 85. ]))"
      ]
     },
     "execution_count": 7,
     "metadata": {},
     "output_type": "execute_result"
    }
   ],
   "source": [
    "t_in = []; angle_in = []\n",
    "t_in, angle_in = np.genfromtxt('mytxtfile.txt', delimiter=',')\n",
    "\n",
    "t_in, angle_in"
   ]
  },
  {
   "cell_type": "markdown",
   "metadata": {},
   "source": [
    "Or we can actually name our array like so:"
   ]
  },
  {
   "cell_type": "code",
   "execution_count": 8,
   "metadata": {},
   "outputs": [
    {
     "data": {
      "text/plain": [
       "array([( 5.,  6. ), (36., 42.5)],\n",
       "      dtype=[('Time', '<f4'), ('Angle', '<f4')])"
      ]
     },
     "execution_count": 8,
     "metadata": {},
     "output_type": "execute_result"
    }
   ],
   "source": [
    "names = ('Time', 'Angle')\n",
    "formats = ('f4', 'f4')\n",
    "\n",
    "named_data = np.genfromtxt('mytxtfile.txt', \n",
    "                           delimiter=',', \n",
    "                           dtype={'names':names, \n",
    "                                  'formats':formats})\n",
    "\n",
    "named_data\n"
   ]
  },
  {
   "cell_type": "markdown",
   "metadata": {},
   "source": [
    "We can then access our data like so:"
   ]
  },
  {
   "cell_type": "code",
   "execution_count": 9,
   "metadata": {},
   "outputs": [
    {
     "data": {
      "text/plain": [
       "array([ 5., 36.], dtype=float32)"
      ]
     },
     "execution_count": 9,
     "metadata": {},
     "output_type": "execute_result"
    }
   ],
   "source": [
    "named_data['Time']"
   ]
  },
  {
   "cell_type": "markdown",
   "metadata": {},
   "source": [
    "However, note that our data is not properly formatted - this is because when we specify names and formats, it expects comments.  To use this feature, we should save like:"
   ]
  },
  {
   "cell_type": "code",
   "execution_count": 10,
   "metadata": {},
   "outputs": [
    {
     "name": "stdout",
     "output_type": "stream",
     "text": [
      "5.000000000000000000e+00,3.600000000000000000e+01\r\n",
      "6.000000000000000000e+00,4.250000000000000000e+01\r\n",
      "7.000000000000000000e+00,4.400000000000000000e+01\r\n",
      "8.000000000000000000e+00,8.500000000000000000e+01\r\n"
     ]
    }
   ],
   "source": [
    "np.savetxt('mytxtfile.txt', np.array([t,angle]).T, delimiter=',')\n",
    "\n",
    "!head mytxtfile.txt"
   ]
  },
  {
   "cell_type": "markdown",
   "metadata": {},
   "source": [
    "What we did above is transform our list of arrays to an array of arrays, and took the transpose with ```.T``` - then things are output as columns.  So when we read in:"
   ]
  },
  {
   "cell_type": "code",
   "execution_count": 11,
   "metadata": {},
   "outputs": [
    {
     "data": {
      "text/plain": [
       "array([(5., 36. ), (6., 42.5), (7., 44. ), (8., 85. )],\n",
       "      dtype=[('Time', '<f4'), ('Angle', '<f4')])"
      ]
     },
     "execution_count": 11,
     "metadata": {},
     "output_type": "execute_result"
    }
   ],
   "source": [
    "names = ('Time', 'Angle')\n",
    "formats = ('f4', 'f4')\n",
    "\n",
    "named_data = np.genfromtxt('mytxtfile.txt', \n",
    "                           delimiter=',', \n",
    "                           dtype={'names':names, \n",
    "                                  'formats':formats})\n",
    "\n",
    "named_data"
   ]
  },
  {
   "cell_type": "code",
   "execution_count": 12,
   "metadata": {},
   "outputs": [
    {
     "data": {
      "text/plain": [
       "(array([5., 6., 7., 8.], dtype=float32),\n",
       " array([36. , 42.5, 44. , 85. ], dtype=float32))"
      ]
     },
     "execution_count": 12,
     "metadata": {},
     "output_type": "execute_result"
    }
   ],
   "source": [
    "named_data['Time'], named_data['Angle']"
   ]
  },
  {
   "cell_type": "markdown",
   "metadata": {},
   "source": [
    "So this now works just fine!"
   ]
  },
  {
   "cell_type": "markdown",
   "metadata": {},
   "source": [
    "# Reading in Kepler Data\n",
    "Let's use what we've learned to read in some kepler datasets.  There are a bunch of parameters that we won't go through in detail, but there are more details in the header files:"
   ]
  },
  {
   "cell_type": "code",
   "execution_count": 13,
   "metadata": {},
   "outputs": [
    {
     "name": "stdout",
     "output_type": "stream",
     "text": [
      "# columns are:\r\n",
      "# (1) Row ID from table\r\n",
      "# (2) System Name\r\n",
      "# (3) planet letter\r\n",
      "# (4) Number of total planets in system\r\n",
      "# (5) Orbital period in days\r\n",
      "# (6) Upper error in Orbital Period (P_orb +/- (upper error)/(lower error)) in days\r\n",
      "# (7) Lower error in orbital period in days\r\n",
      "# (8) Semi-major axis  in AU\r\n",
      "# (9) Error in semi major axis (a +/- ea)\r\n",
      "# (10) Eccentricity\r\n",
      "# (11) Upper error in eccentricity\r\n",
      "# (12) Lower error in eccentricity\r\n",
      "# (13) Inclination in degrees\r\n",
      "# (14) Upper error in inclination\r\n",
      "# (15) Lower error in inclination\r\n",
      "# (16) Planet's mass in Jupiter mass (or M*sin(i) if given)\r\n",
      "# (15) Upper error in planet's mass in jupiter masses\r\n",
      "# (16) Lower error in planet's mass in jupieter masses\r\n",
      "# (17) Mass type ('Mass' or 'Msini' - tells you what is the \"mass\" you actually measure)\r\n",
      "# (18) Star's mass in solar masses\r\n",
      "# (19) Error in star's mass\r\n",
      "# (20) Star's radius in solar radii\r\n",
      "# (21) Upper error in star's radius\r\n",
      "# (22) Lower error in star's radius\r\n",
      "# (23) Transit time in Julian days since a given time: from: Lissauer et al. June 20, 2013, ApJ 770, 131\r\n",
      "# (24) Upper error in transit time\r\n",
      "# (25) Lower error in transit time\r\n",
      "#\r\n",
      "# Further notes:\r\n",
      "# the \"-100.0\" in the last row denote the fact that 0.15 and 0.079 are an upper limit\r\n",
      "# Data from Kepler confirmed planet website: http://exoplanetarchive.ipac.caltech.edu/cgi-bin/TblView/nph-tblView?app=ExoTbls&config=planets\r\n",
      "#\r\n",
      "902,Kepler-11 ,b,6,10.3039, 0.0006, -0.0010, 0.091, 0.001, 0.045, 0.068, -0.042, 89.64, 0.36, -0.18, 0.006, 0.004, -0.003, Mass, 0.961, 0.025, 1.065, 0.017, -0.022, 689.7378, 0.0026, -0.0047\r\n",
      "903,Kepler-11 ,c,6,13.0241, 0.0013, -0.0008, 0.107, 0.001, 0.026, 0.063, -0.013, 89.59, 0.41, -0.16, 0.009, 0.009, -0.005, Mass, 0.961, 0.025, 1.065, 0.017, -0.022, 683.3494, 0.0014, -0.0019\r\n",
      "904,Kepler-11 ,d,6,22.6845, 0.0009, -0.0009, 0.155, 0.001, 0.004, 0.007, -0.002, 89.67, 0.13, -0.16, 0.023, 0.003, -0.005, Mass, 0.961, 0.025, 1.065, 0.017, -0.022, 694.0069, 0.0022, -0.0014\r\n",
      "905,Kepler-11 ,e,6,31.9996, 0.0008, -0.0012, 0.195, 0.002, 0.012, 0.006, -0.006, 88.89, 0.02, -0.02, 0.025, 0.005, -0.007, Mass, 0.961, 0.025, 1.065, 0.017, -0.022, 695.0755, 0.0015, -0.0009\r\n",
      "906,Kepler-11 ,f,6,46.6888, 0.0027, -0.0032, 0.250, 0.002, 0.013, 0.011, -0.009, 89.47, 0.04, -0.04, 0.006, 0.003, -0.003, Mass, 0.961, 0.025, 1.065, 0.017, -0.022, 718.2710, 0.0041, -0.0038\r\n",
      "907,Kepler-11 ,g,6,118.3807,0.0010, -0.0006, 0.466, 0.004, 0.15, -100.0, -100.0, 89.87, 0.05, -0.06, 0.079,-100.0, -100.0, Mass, 0.961, 0.025, 1.065, 0.017, -0.022, 693.8021, 0.0030, -0.0021\r\n"
     ]
    }
   ],
   "source": [
    "!head -n 40 downloads/kepler11data.txt"
   ]
  },
  {
   "cell_type": "code",
   "execution_count": 32,
   "metadata": {},
   "outputs": [
    {
     "data": {
      "text/plain": [
       "array([(779., b'Kepler-101 ', b'b', 2., 3.4876812, 7.0e-06, -7.0e-06, 0.0474, 0.009 , 0.086,  8.e-02, -5.9e-02, 85.82, 1.73, -1.53, 0.16,  2.e-02, -1.e-02, b' Mass', 1.17, 0.06, 1.56, 0.2, -0.2, 288.77994, 0.00041, -0.00041),\n",
       "       (780., b'Kepler-101 ', b'c', 2., 6.02976  , 7.5e-05, -7.5e-05, 0.0684, 0.0014, 0.   , -1.e+02, -1.0e+02, 84.6 , 3.4 , -3.1 , 0.01, -1.e+02, -1.e+02, b' Mass', 1.17, 0.06, 1.56, 0.2, -0.2,  65.486  , 0.0088 , -0.0088 )],\n",
       "      dtype=[('RowID', '<f4'), ('SysName', 'S12'), ('planetLetter', 'S2'), ('NumberOfPlanets', '<f4'), ('Porb', '<f4'), ('ePorbU', '<f4'), ('ePorbL', '<f4'), ('a', '<f4'), ('ea', '<f4'), ('ecc', '<f4'), ('eeccU', '<f4'), ('eeccL', '<f4'), ('Incl', '<f4'), ('eInclU', '<f4'), ('eInclL', '<f4'), ('pMass', '<f4'), ('epMassU', '<f4'), ('epMassL', '<f4'), ('pMassType', 'S8'), ('sMass', '<f4'), ('esMass', '<f4'), ('sRadius', '<f4'), ('esRadiusU', '<f4'), ('esRadiusL', '<f4'), ('tTime', '<f4'), ('etTimeU', '<f4'), ('etTimeL', '<f4')])"
      ]
     },
     "execution_count": 32,
     "metadata": {},
     "output_type": "execute_result"
    }
   ],
   "source": [
    "# okay dokey, read in the file!\n",
    "names = ('RowID', 'SysName', 'planetLetter', 'NumberOfPlanets', 'Porb', \n",
    "         'ePorbU', 'ePorbL',       'a',             'ea',       'ecc', \n",
    "         'eeccU',    'eeccL',    'Incl',           'eInclU',    'eInclL', \n",
    "         'pMass',   'epMassU', 'epMassL',          'pMassType', 'sMass', \n",
    "         'esMass',  'sRadius', 'esRadiusU',       'esRadiusL',  'tTime', \n",
    "         'etTimeU', 'etTimeL')\n",
    "formats = ('f4',       'S12',     'S2',               'f4',        'f4',\n",
    "           'f4',       'f4',      'f4',               'f4',        'f4',\n",
    "           'f4',       'f4',      'f4',               'f4',        'f4',\n",
    "           'f4',       'f4',      'f4',               'S8',        'f4',\n",
    "           'f4',       'f4',      'f4',               'f4',        'f4', \n",
    "           'f4',       'f4')\n",
    "kepler_data = np.genfromtxt('downloads/kepler101data.txt', \n",
    "                            comments='#', \n",
    "                            delimiter=',', \n",
    "                            dtype={'names':names, \n",
    "                                   'formats':formats})\n",
    "\n",
    "kepler_data"
   ]
  },
  {
   "cell_type": "markdown",
   "metadata": {},
   "source": [
    "Let's use a library to convert this.  Note: this uses a few assumptions to convert the Kepler data into initial conditions for our simulations.\n",
    "\n",
    "Please check out the library if you want to see these assumptions\n",
    "\n",
    "**maybe go through not sure**"
   ]
  },
  {
   "cell_type": "code",
   "execution_count": 33,
   "metadata": {},
   "outputs": [],
   "source": [
    "from convert_kepler_data import convert_kepler_data"
   ]
  },
  {
   "cell_type": "code",
   "execution_count": 34,
   "metadata": {},
   "outputs": [],
   "source": [
    "star_mass, \\\n",
    "planet_masses, \\\n",
    "planet_initial_position, \\\n",
    "planet_initial_velocity = convert_kepler_data(kepler_data)"
   ]
  },
  {
   "cell_type": "markdown",
   "metadata": {},
   "source": [
    "Let's see how these things look:"
   ]
  },
  {
   "cell_type": "code",
   "execution_count": 35,
   "metadata": {},
   "outputs": [
    {
     "data": {
      "text/plain": [
       "1.17"
      ]
     },
     "execution_count": 35,
     "metadata": {},
     "output_type": "execute_result"
    }
   ],
   "source": [
    "star_mass # Msun"
   ]
  },
  {
   "cell_type": "code",
   "execution_count": 36,
   "metadata": {},
   "outputs": [
    {
     "data": {
      "text/plain": [
       "array([0.16, 0.01])"
      ]
     },
     "execution_count": 36,
     "metadata": {},
     "output_type": "execute_result"
    }
   ],
   "source": [
    "planet_masses # in Jupiter masses"
   ]
  },
  {
   "cell_type": "code",
   "execution_count": 37,
   "metadata": {},
   "outputs": [
    {
     "data": {
      "text/plain": [
       "array([[-0.0433236 ,  0.        ,  0.        ],\n",
       "       [ 0.06702392,  0.01365115,  0.        ]])"
      ]
     },
     "execution_count": 37,
     "metadata": {},
     "output_type": "execute_result"
    }
   ],
   "source": [
    "planet_initial_position # in AU"
   ]
  },
  {
   "cell_type": "code",
   "execution_count": 38,
   "metadata": {},
   "outputs": [
    {
     "data": {
      "text/plain": [
       "array([[   0.        , -141.87933522,    0.        ],\n",
       "       [ -24.65587511,  121.05448789,    0.        ]])"
      ]
     },
     "execution_count": 38,
     "metadata": {},
     "output_type": "execute_result"
    }
   ],
   "source": [
    "planet_initial_velocity # in km/s"
   ]
  },
  {
   "cell_type": "markdown",
   "metadata": {},
   "source": [
    "### Exercise\n",
    "Use the Hermite solver to model this system & plot the orbits of the planets. How large/small does your timestep have to be to be to get a stable orbit?\n",
    "\n",
    "Bonus: what about for the 5 planet system?"
   ]
  },
  {
   "cell_type": "markdown",
   "metadata": {},
   "source": [
    "### Possible ans"
   ]
  },
  {
   "cell_type": "markdown",
   "metadata": {},
   "source": [
    "Now import the hermite stuffs to solve this:"
   ]
  },
  {
   "cell_type": "code",
   "execution_count": 39,
   "metadata": {},
   "outputs": [],
   "source": [
    "from sys import path\n",
    "path.append('../lesson02/')\n",
    "\n",
    "from hermite_library import do_hermite"
   ]
  },
  {
   "cell_type": "code",
   "execution_count": 42,
   "metadata": {},
   "outputs": [],
   "source": [
    "# h is for hermite!\n",
    "r_h, v_h, t_h, e_h = do_hermite(star_mass, \n",
    "                                planet_masses, \n",
    "                                planet_initial_position, \n",
    "                                planet_initial_velocity, \n",
    "                               tfinal=200, Nsteps=8800)\n",
    "\n",
    "t_h = t_h/(365.*24*60*60)\n",
    "e_h = (e_h-e_h[0])/e_h[0]"
   ]
  },
  {
   "cell_type": "code",
   "execution_count": 43,
   "metadata": {},
   "outputs": [
    {
     "data": {
      "image/png": "[encoded data removed]",
      "text/plain": [
       "<Figure size 1440x720 with 2 Axes>"
      ]
     },
     "metadata": {
      "needs_background": "light"
     },
     "output_type": "display_data"
    }
   ],
   "source": [
    "# let's plot!\n",
    "fig, ax = plt.subplots(1, 2, figsize = (10*2, 10))\n",
    "fig.suptitle('Coordinates Plot')\n",
    "\n",
    "ax[0].set_xlabel('x in AU')\n",
    "ax[0].set_ylabel('y in AU')\n",
    "\n",
    "# plot Euler's solution, particle 1\n",
    "for i in range(len(planet_masses)):\n",
    "    ax[0].plot(r_h[i,0,:], r_h[i,1,:], lw=3)\n",
    "\n",
    "ax[1].set_xlabel('Time in years')\n",
    "ax[1].set_ylabel('Energy')\n",
    "# re-norm energy\n",
    "ax[1].plot(t_h, e_h)\n",
    "\n",
    "plt.show()"
   ]
  },
  {
   "cell_type": "markdown",
   "metadata": {},
   "source": []
  }
 ],
 "metadata": {
  "kernelspec": {
   "display_name": "Python 3",
   "language": "python",
   "name": "python3"
  },
  "language_info": {
   "codemirror_mode": {
    "name": "ipython",
    "version": 3
   },
   "file_extension": ".py",
   "mimetype": "text/x-python",
   "name": "python",
   "nbconvert_exporter": "python",
   "pygments_lexer": "ipython3",
   "version": "3.7.3"
  }
 },
 "nbformat": 4,
 "nbformat_minor": 2
}
