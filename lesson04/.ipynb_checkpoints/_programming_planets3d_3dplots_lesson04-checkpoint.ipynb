{
 "cells": [
  {
   "cell_type": "markdown",
   "metadata": {},
   "source": [
    "# Day 4, Part 1 - Planets in 3D and plotting 3D things"
   ]
  },
  {
   "cell_type": "code",
   "execution_count": 1,
   "metadata": {},
   "outputs": [],
   "source": [
    "# usual things:\n",
    "import numpy as np\n",
    "import matplotlib.pyplot as plt\n",
    "#from mpl_toolkits.mplot3d import Axes3D\n",
    "\n",
    "%matplotlib inline\n",
    "#%matplotlib notebook"
   ]
  },
  {
   "cell_type": "code",
   "execution_count": null,
   "metadata": {},
   "outputs": [],
   "source": []
  },
  {
   "cell_type": "code",
   "execution_count": 2,
   "metadata": {},
   "outputs": [],
   "source": [
    "# okay dokey, read in the file!\n",
    "names = ('RowID', 'SysName', 'planetLetter', 'NumberOfPlanets', 'Porb', \n",
    "         'ePorbU', 'ePorbL',       'a',             'ea',       'ecc', \n",
    "         'eeccU',    'eeccL',    'Incl',           'eInclU',    'eInclL', \n",
    "         'pMass',   'epMassU', 'epMassL',          'pMassType', 'sMass', \n",
    "         'esMass',  'sRadius', 'esRadiusU',       'esRadiusL',  'tTime', \n",
    "         'etTimeU', 'etTimeL')\n",
    "formats = ('f4',       'S12',     'S2',               'f4',        'f4',\n",
    "           'f4',       'f4',      'f4',               'f4',        'f4',\n",
    "           'f4',       'f4',      'f4',               'f4',        'f4',\n",
    "           'f4',       'f4',      'f4',               'S8',        'f4',\n",
    "           'f4',       'f4',      'f4',               'f4',        'f4', \n",
    "           'f4',       'f4')\n",
    "kepler_data = np.genfromtxt('../lesson03/downloads/kepler11data.txt', \n",
    "                            comments='#', \n",
    "                            delimiter=',', \n",
    "                            dtype={'names':names, \n",
    "                                   'formats':formats})\n"
   ]
  },
  {
   "cell_type": "code",
   "execution_count": 3,
   "metadata": {},
   "outputs": [],
   "source": [
    "# convert\n",
    "from sys import path\n",
    "path.append('../lesson03/')\n",
    "from convert_kepler_data import convert_kepler_data\n",
    "\n",
    "star_mass, \\\n",
    "planet_masses, \\\n",
    "planet_initial_position, \\\n",
    "planet_initial_velocity, ecc = convert_kepler_data(kepler_data, use_inclination_3d=True)"
   ]
  },
  {
   "cell_type": "code",
   "execution_count": null,
   "metadata": {},
   "outputs": [],
   "source": [
    "# solve\n",
    "from sys import path\n",
    "path.append('../lesson02/')\n",
    "\n",
    "from hermite_library import do_hermite\n",
    "\n",
    "# h is for hermite!\n",
    "r_h, v_h, t_h, e_h = do_hermite(star_mass, \n",
    "                                planet_masses, \n",
    "                                planet_initial_position, \n",
    "                                planet_initial_velocity, \n",
    "                               tfinal=200, Nsteps=8800, \n",
    "                               threeDee=True)\n",
    "\n",
    "t_h = t_h/(365.*24*60*60)\n",
    "e_h = (e_h-e_h[0])/e_h[0]"
   ]
  },
  {
   "cell_type": "code",
   "execution_count": null,
   "metadata": {},
   "outputs": [],
   "source": [
    "# let's plot in multi-d\n",
    "fig, ax = plt.subplots(1, 4, figsize = (10*2, 10))\n",
    "fig.suptitle('Coordinates Plot')\n",
    "\n",
    "# for plots 0->2\n",
    "ax[0].set_xlabel('x in AU')\n",
    "ax[0].set_ylabel('y in AU')\n",
    "\n",
    "ax[1].set_xlabel('x in AU')\n",
    "ax[1].set_ylabel('z in AU')\n",
    "\n",
    "ax[2].set_xlabel('y in AU')\n",
    "ax[2].set_ylabel('z in AU')\n",
    "\n",
    "# plot Euler's solution, particle 1, x-y\n",
    "for i in range(len(planet_masses)):\n",
    "    ax[0].plot(r_h[i,0,:], r_h[i,1,:], lw=3)\n",
    "\n",
    "for i in range(len(planet_masses)):\n",
    "    ax[1].plot(r_h[i,0,:], r_h[i,2,:], lw=3)\n",
    "\n",
    "for i in range(len(planet_masses)):\n",
    "    ax[2].plot(r_h[i,1,:], r_h[i,2,:], lw=3)\n",
    "    \n",
    "    \n",
    "ax[3].set_xlabel('Time in years')\n",
    "ax[3].set_ylabel('Energy')\n",
    "# re-norm energy\n",
    "ax[3].plot(t_h, e_h)\n",
    "\n",
    "plt.show()"
   ]
  },
  {
   "cell_type": "code",
   "execution_count": null,
   "metadata": {},
   "outputs": [],
   "source": [
    "# now plot in 3D\n",
    "from mpl_toolkits import mplot3d\n",
    "#from mpl_toolkits.mplot3d import Axes3D\n",
    "\n",
    "fig = plt.figure()\n",
    "ax = plt.axes(projection='3d')\n",
    "#ax = fig.add_subplot(111, projection='3d')\n",
    "\n",
    "\n",
    "# for first planet\n",
    "ax.plot3D(r_h[i,0,:], r_h[i,1,:], r_h[i,2,:])\n",
    "\n",
    "plt.show()"
   ]
  },
  {
   "cell_type": "markdown",
   "metadata": {},
   "source": [
    "### Exercise\n",
    "Add all the other planets to this plot.\n",
    "\n",
    "Bonus bonus: How would you make an animation of this?"
   ]
  },
  {
   "cell_type": "markdown",
   "metadata": {},
   "source": [
    "# Galaxy simulations"
   ]
  },
  {
   "cell_type": "code",
   "execution_count": null,
   "metadata": {},
   "outputs": [],
   "source": [
    "# note: we can even read from the web!\n",
    "# this is a 100 particle (in stars and DM) initial conditions\n",
    "names = ('Ptype', 'x', 'y', 'z', 'vx', 'vy', 'vz')\n",
    "formats=  ('f8',   'f8', 'f8','f8', 'f8','f8', 'f8')\n",
    "galaxy_data = np.genfromtxt(\"https://jnaiman.github.io/csci-p-14110/lesson04/galaxySnaps/snap_001_fac1n3.txt\", \n",
    "                           delimiter=\",\", \n",
    "                            dtype={'names':names, \n",
    "                                   'formats':formats})"
   ]
  },
  {
   "cell_type": "code",
   "execution_count": null,
   "metadata": {},
   "outputs": [],
   "source": [
    "galaxy_data"
   ]
  },
  {
   "cell_type": "code",
   "execution_count": null,
   "metadata": {},
   "outputs": [],
   "source": [
    "# convert galaxy data\n",
    "from convert_galaxy_data import convert_galaxy_data\n",
    "\n",
    "masses, pos, vel = convert_galaxy_data(galaxy_data)"
   ]
  },
  {
   "cell_type": "code",
   "execution_count": null,
   "metadata": {},
   "outputs": [],
   "source": [
    "# import the galaxy library\n",
    "from hermite_library import do_hermite_galaxies\n",
    "\n",
    "# note: this will likely take a good long while\n",
    "# note that tfinal has changed - this is because our scales are very different!\n",
    "r_h, v_h, t_h, e_h = do_hermite_galaxies(masses, pos, vel, tfinal=0.001, Nsteps = 100)\n"
   ]
  },
  {
   "cell_type": "code",
   "execution_count": null,
   "metadata": {},
   "outputs": [],
   "source": [
    "t_h = t_h/(365.*24*60*60)\n",
    "e_h = (e_h-e_h[0])/e_h[0]"
   ]
  },
  {
   "cell_type": "code",
   "execution_count": null,
   "metadata": {},
   "outputs": [],
   "source": [
    "# let's plot in multi-d\n",
    "fig, ax = plt.subplots(1, 4, figsize = (10*2, 10))\n",
    "fig.suptitle('Coordinates Plot')\n",
    "\n",
    "# for plots 0->2\n",
    "ax[0].set_xlabel('x in kpc')\n",
    "ax[0].set_ylabel('y in kpc')\n",
    "\n",
    "ax[1].set_xlabel('x in kpc')\n",
    "ax[1].set_ylabel('z in kpc')\n",
    "\n",
    "ax[2].set_xlabel('y in kpc')\n",
    "ax[2].set_ylabel('z in kpc')\n",
    "\n",
    "# plot Euler's solution, particle 1, x-y\n",
    "for i in range(len(masses)):\n",
    "    ax[0].plot(r_h[i,0,:], r_h[i,1,:], lw=3)\n",
    "\n",
    "for i in range(len(masses)):\n",
    "    ax[1].plot(r_h[i,0,:], r_h[i,2,:], lw=3)\n",
    "\n",
    "for i in range(len(masses)):\n",
    "    ax[2].plot(r_h[i,1,:], r_h[i,2,:], lw=3)\n",
    "    \n",
    "    \n",
    "ax[3].set_xlabel('Time in years')\n",
    "ax[3].set_ylabel('Energy')\n",
    "# re-norm energy\n",
    "ax[3].plot(t_h, e_h)\n",
    "\n",
    "plt.show()"
   ]
  },
  {
   "cell_type": "code",
   "execution_count": null,
   "metadata": {},
   "outputs": [],
   "source": []
  }
 ],
 "metadata": {
  "kernelspec": {
   "display_name": "Python 3",
   "language": "python",
   "name": "python3"
  },
  "language_info": {
   "codemirror_mode": {
    "name": "ipython",
    "version": 3
   },
   "file_extension": ".py",
   "mimetype": "text/x-python",
   "name": "python",
   "nbconvert_exporter": "python",
   "pygments_lexer": "ipython3",
   "version": "3.7.3"
  }
 },
 "nbformat": 4,
 "nbformat_minor": 2
}
