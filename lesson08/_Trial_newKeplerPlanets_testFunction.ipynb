{
 "cells": [
  {
   "cell_type": "markdown",
   "metadata": {},
   "source": [
    "# I'm just gonna see if I can write a quick and dirty kepler-planet function thing"
   ]
  },
  {
   "cell_type": "code",
   "execution_count": 18,
   "metadata": {},
   "outputs": [],
   "source": [
    "filename = 'planets_2019.07.30_19.22.04.csv'"
   ]
  },
  {
   "cell_type": "code",
   "execution_count": 19,
   "metadata": {},
   "outputs": [],
   "source": [
    "import pandas as pd\n",
    "import numpy as np"
   ]
  },
  {
   "cell_type": "code",
   "execution_count": 20,
   "metadata": {},
   "outputs": [],
   "source": [
    "planets = pd.read_csv(filename, \n",
    "                     sep=\",\", comment=\"#\")"
   ]
  },
  {
   "cell_type": "code",
   "execution_count": 21,
   "metadata": {},
   "outputs": [],
   "source": [
    "# orig function:\n",
    "def read_kepler_data(fileLocation):\n",
    "    names = ('RowID', 'SysName', 'planetLetter', 'NumberOfPlanets', 'Porb', \n",
    "             'ePorbU', 'ePorbL',       'a',             'ea',       'ecc', \n",
    "             'eeccU',    'eeccL',    'Incl',           'eInclU',    'eInclL', \n",
    "             'pMass',   'epMassU', 'epMassL',          'pMassType', 'sMass', \n",
    "             'esMass',  'sRadius', 'esRadiusU',       'esRadiusL',  'tTime', \n",
    "             'etTimeU', 'etTimeL')\n",
    "    formats = ('f4',       'S12',     'S2',               'f4',        'f4',\n",
    "               'f4',       'f4',      'f4',               'f4',        'f4',\n",
    "               'f4',       'f4',      'f4',               'f4',        'f4',\n",
    "               'f4',       'f4',      'f4',               'S8',        'f4',\n",
    "               'f4',       'f4',      'f4',               'f4',        'f4', \n",
    "               'f4',       'f4')\n",
    "    kepler_data = np.genfromtxt(fileLocation, \n",
    "                                comments='#', \n",
    "                                delimiter=',', \n",
    "                                dtype={'names':names, \n",
    "                                       'formats':formats})\n",
    "    return kepler_data\n"
   ]
  },
  {
   "cell_type": "code",
   "execution_count": 22,
   "metadata": {},
   "outputs": [
    {
     "data": {
      "text/plain": [
       "array(['11 Com', '11 UMi', '14 And', ..., 'tau Gem', 'ups And', 'xi Aql'],\n",
       "      dtype=object)"
      ]
     },
     "execution_count": 22,
     "metadata": {},
     "output_type": "execute_result"
    }
   ],
   "source": [
    "planets['pl_hostname'].unique()"
   ]
  },
  {
   "cell_type": "code",
   "execution_count": 63,
   "metadata": {},
   "outputs": [
    {
     "data": {
      "text/plain": [
       "4021       4.617033\n",
       "4022     241.258000\n",
       "4023    1276.460000\n",
       "Name: pl_orbper, dtype: float64"
      ]
     },
     "execution_count": 63,
     "metadata": {},
     "output_type": "execute_result"
    }
   ],
   "source": [
    "# convert based on name:\n",
    "name = 'ups And'\n",
    "\n",
    "# only select entries with this name\n",
    "mask = planets['pl_hostname'] == name\n",
    "ecc = planets['pl_orbeccen'][mask]\n",
    "a = planets['pl_orbsmax'][mask]\n",
    "Porb = planets['pl_orbper'][mask]\n",
    "Incl = planets['pl_orbincl'][mask]\n",
    "sMass = planets['st_mass'][mask]\n",
    "pMass = planets['pl_bmassj'][mask]\n",
    "\n",
    "#tmax=np.array(tTime).max()\n",
    "#tTime = []\n",
    "#for t in planets['pl_orbtper'][mask]:\n",
    "#    tTime.append([tmax,t])\n",
    "tTime = planets['pl_orbtper'][mask]\n",
    "    \n",
    "tTime\n",
    "Porb\n",
    "\n",
    "#ecc,a"
   ]
  },
  {
   "cell_type": "code",
   "execution_count": 64,
   "metadata": {},
   "outputs": [
    {
     "data": {
      "text/plain": [
       "4021    2450005.368\n",
       "4022    2450157.780\n",
       "4023    2451347.480\n",
       "Name: pl_orbtper, dtype: float64"
      ]
     },
     "execution_count": 64,
     "metadata": {},
     "output_type": "execute_result"
    }
   ],
   "source": [
    "tTime"
   ]
  },
  {
   "cell_type": "code",
   "execution_count": 65,
   "metadata": {},
   "outputs": [
    {
     "data": {
      "text/plain": [
       "Index(['pl_hostname', 'pl_letter', 'pl_name', 'pl_pnum', 'pl_orbper',\n",
       "       'pl_orbpererr1', 'pl_orbpererr2', 'pl_orbperlim', 'pl_orbsmax',\n",
       "       'pl_orbsmaxerr1', 'pl_orbsmaxerr2', 'pl_orbsmaxlim', 'pl_orbeccen',\n",
       "       'pl_orbeccenerr1', 'pl_orbeccenerr2', 'pl_orbeccenlim', 'pl_orbincl',\n",
       "       'pl_orbinclerr1', 'pl_orbinclerr2', 'pl_orbincllim', 'pl_bmassj',\n",
       "       'pl_bmassjerr1', 'pl_bmassjerr2', 'pl_bmassjlim', 'pl_bmassprov',\n",
       "       'pl_radj', 'pl_radjerr1', 'pl_radjerr2', 'pl_radjlim', 'pl_dens',\n",
       "       'pl_denserr1', 'pl_denserr2', 'pl_denslim', 'pl_ttvflag', 'pl_kepflag',\n",
       "       'pl_k2flag', 'pl_nnotes', 'ra_str', 'ra', 'dec_str', 'dec', 'st_dist',\n",
       "       'st_disterr1', 'st_disterr2', 'st_distlim', 'gaia_dist',\n",
       "       'gaia_disterr1', 'gaia_disterr2', 'gaia_distlim', 'st_teff',\n",
       "       'st_tefferr1', 'st_tefferr2', 'st_tefflim', 'st_mass', 'st_masserr1',\n",
       "       'st_masserr2', 'st_masslim', 'st_rad', 'st_raderr1', 'st_raderr2',\n",
       "       'st_radlim', 'rowupdate', 'pl_orbtper', 'pl_orbtpererr1',\n",
       "       'pl_orbtpererr2', 'pl_orbtperlim', 'pl_massj', 'pl_massjerr1',\n",
       "       'pl_massjerr2', 'pl_massjlim', 'pl_msinij', 'pl_msinijerr1',\n",
       "       'pl_msinijerr2', 'pl_msinijlim', 'pl_trandur', 'pl_trandurerr1',\n",
       "       'pl_trandurerr2', 'pl_trandurlim', 'pl_tranmid', 'pl_tranmiderr1',\n",
       "       'pl_tranmiderr2', 'pl_tranmidlim', 'pl_tsystemref', 'pl_facility',\n",
       "       'pl_mnum'],\n",
       "      dtype='object')"
      ]
     },
     "execution_count": 65,
     "metadata": {},
     "output_type": "execute_result"
    }
   ],
   "source": [
    "planets.keys()"
   ]
  },
  {
   "cell_type": "code",
   "execution_count": 66,
   "metadata": {},
   "outputs": [],
   "source": [
    "#planets['pl_orbtper']"
   ]
  },
  {
   "cell_type": "code",
   "execution_count": 72,
   "metadata": {},
   "outputs": [],
   "source": [
    "# dict?\n",
    "kepler_data = {}\n",
    "\n",
    "#kepler_data['RowID'] = -1\n",
    "kepler_data['SysName'] = name\n",
    "#kepler_data['planetLetter'] = 'X'\n",
    "kepler_data['NumberOfPlanets'] = len(a) \n",
    "kepler_data['Porb'] = Porb.values\n",
    "#kepler_data['ePorbU']=0\n",
    "#kepler_data['ePorbL']=0\n",
    "kepler_data['a']=a.values\n",
    "#kepler_data['ea']=0\n",
    "kepler_data['ecc']=ecc.values\n",
    "#kepler_data['eeccU']=0\n",
    "#kepler_data['eeccL']=0\n",
    "kepler_data['Incl']=Incl.values\n",
    "#kepler_data['eInclU']=0  \n",
    "kepler_data['pMass']=pMass.values\n",
    "kepler_data['sMass']=sMass.values\n",
    "kepler_data['tTime']=tTime.values\n",
    "#'eInclL', \n",
    "#             'pMass',   'epMassU', 'epMassL',          'pMassType', 'sMass', \n",
    "#             'esMass',  'sRadius', 'esRadiusU',       'esRadiusL',  'tTime', \n",
    "#             'etTimeU', 'etTimeL'"
   ]
  },
  {
   "cell_type": "code",
   "execution_count": 73,
   "metadata": {},
   "outputs": [
    {
     "data": {
      "text/plain": [
       "{'SysName': 'ups And',\n",
       " 'NumberOfPlanets': 3,\n",
       " 'Porb': array([   4.617033,  241.258   , 1276.46    ]),\n",
       " 'a': array([0.059222, 0.827774, 2.51329 ]),\n",
       " 'ecc': array([0.0215, 0.2596, 0.2987]),\n",
       " 'Incl': array([nan, nan, nan]),\n",
       " 'pMass': array([0.6876, 1.981 , 4.132 ]),\n",
       " 'sMass': array([1.3, 1.3, 1.3]),\n",
       " 'tTime': array([2450005.368, 2450157.78 , 2451347.48 ])}"
      ]
     },
     "execution_count": 73,
     "metadata": {},
     "output_type": "execute_result"
    }
   ],
   "source": [
    "kepler_data"
   ]
  },
  {
   "cell_type": "code",
   "execution_count": 74,
   "metadata": {},
   "outputs": [],
   "source": [
    "from convert_kepler_data import convert_kepler_data"
   ]
  },
  {
   "cell_type": "code",
   "execution_count": 75,
   "metadata": {},
   "outputs": [],
   "source": [
    "star_mass, planet_masses, planet_initial_position, planet_initial_velocity, ecc = convert_kepler_data(kepler_data)"
   ]
  },
  {
   "cell_type": "code",
   "execution_count": 77,
   "metadata": {},
   "outputs": [
    {
     "data": {
      "text/plain": [
       "1.3"
      ]
     },
     "execution_count": 77,
     "metadata": {},
     "output_type": "execute_result"
    }
   ],
   "source": [
    "star_mass"
   ]
  },
  {
   "cell_type": "code",
   "execution_count": 78,
   "metadata": {},
   "outputs": [
    {
     "data": {
      "text/plain": [
       "array([0.6876, 1.981 , 4.132 ])"
      ]
     },
     "execution_count": 78,
     "metadata": {},
     "output_type": "execute_result"
    }
   ],
   "source": [
    "planet_masses"
   ]
  },
  {
   "cell_type": "code",
   "execution_count": 79,
   "metadata": {},
   "outputs": [
    {
     "data": {
      "text/plain": [
       "array([[-0.05794873,  0.        ,  0.        ],\n",
       "       [-0.41464231, -0.45132958,  0.        ],\n",
       "       [ 1.67133248,  0.55973363,  0.        ]])"
      ]
     },
     "execution_count": 79,
     "metadata": {},
     "output_type": "execute_result"
    }
   ],
   "source": [
    "planet_initial_position"
   ]
  },
  {
   "cell_type": "code",
   "execution_count": 80,
   "metadata": {},
   "outputs": [
    {
     "data": {
      "text/plain": [
       "array([[   0.        , -138.43721646,    0.        ],\n",
       "       [  23.71957473,  -21.79147972,    0.        ],\n",
       "       [  -5.71320164,   17.05929214,    0.        ]])"
      ]
     },
     "execution_count": 80,
     "metadata": {},
     "output_type": "execute_result"
    }
   ],
   "source": [
    "planet_initial_velocity"
   ]
  },
  {
   "cell_type": "code",
   "execution_count": 81,
   "metadata": {},
   "outputs": [],
   "source": [
    "from kepler_data_table_to_new_planet_system import read_convert_new_system"
   ]
  },
  {
   "cell_type": "code",
   "execution_count": 82,
   "metadata": {},
   "outputs": [],
   "source": [
    "filename = 'planets_2019.07.30_19.22.04.csv'"
   ]
  },
  {
   "cell_type": "markdown",
   "metadata": {},
   "source": [
    "What are the possible "
   ]
  },
  {
   "cell_type": "code",
   "execution_count": null,
   "metadata": {},
   "outputs": [],
   "source": [
    "new_kepler_data = read_convert_new_system(filename, name)"
   ]
  }
 ],
 "metadata": {
  "kernelspec": {
   "display_name": "Python 3",
   "language": "python",
   "name": "python3"
  },
  "language_info": {
   "codemirror_mode": {
    "name": "ipython",
    "version": 3
   },
   "file_extension": ".py",
   "mimetype": "text/x-python",
   "name": "python",
   "nbconvert_exporter": "python",
   "pygments_lexer": "ipython3",
   "version": "3.7.3"
  }
 },
 "nbformat": 4,
 "nbformat_minor": 2
}
