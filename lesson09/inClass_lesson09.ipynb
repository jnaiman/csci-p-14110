{
 "cells": [
  {
   "cell_type": "code",
   "execution_count": 1,
   "metadata": {},
   "outputs": [],
   "source": [
    "# import our usual things\n",
    "import numpy as np\n",
    "import matplotlib.pyplot as plt\n",
    "%matplotlib inline"
   ]
  },
  {
   "cell_type": "code",
   "execution_count": 2,
   "metadata": {},
   "outputs": [],
   "source": [
    "# import kepler 101 dataset\n",
    "from hermite_library import read_hermite_solution_from_file\n",
    "\n",
    "t_h, E_h, r_h, v_h = read_hermite_solution_from_file('myPlanetSystem_kepler101_solution1.txt')"
   ]
  },
  {
   "cell_type": "code",
   "execution_count": 4,
   "metadata": {},
   "outputs": [],
   "source": [
    "from hermite_library import AUinCM # for converting between AU and cm"
   ]
  },
  {
   "cell_type": "markdown",
   "metadata": {},
   "source": [
    "# Choosing locations of files"
   ]
  },
  {
   "cell_type": "code",
   "execution_count": 5,
   "metadata": {},
   "outputs": [],
   "source": [
    "# specify the directory where the make3dplanets.py is \n",
    "make3dplanets_libdir = './genericPlanetFiles/'"
   ]
  },
  {
   "cell_type": "code",
   "execution_count": 6,
   "metadata": {},
   "outputs": [],
   "source": [
    "# pick a name for our 3D files\n",
    "SystemName = 'myPlanetSystem1'"
   ]
  },
  {
   "cell_type": "code",
   "execution_count": 7,
   "metadata": {},
   "outputs": [],
   "source": [
    "# make a directory where things are going to be stored\n",
    "#!mkdir outPlanets\n",
    "# now I commented because directory exists"
   ]
  },
  {
   "cell_type": "code",
   "execution_count": 41,
   "metadata": {},
   "outputs": [],
   "source": [
    "output_planet_dir = './outPlanets/' # where my planets will be stored"
   ]
  },
  {
   "cell_type": "markdown",
   "metadata": {},
   "source": [
    "# Make aesthecial choices"
   ]
  },
  {
   "cell_type": "code",
   "execution_count": 42,
   "metadata": {},
   "outputs": [],
   "source": [
    "# look again at the kepler dataset to remind ourselves what things look like\n",
    "from convert_kepler_data import read_kepler_data"
   ]
  },
  {
   "cell_type": "code",
   "execution_count": 43,
   "metadata": {},
   "outputs": [],
   "source": [
    "kepler_data = read_kepler_data('kepler101data.txt') # initial conditions, observational"
   ]
  },
  {
   "cell_type": "code",
   "execution_count": 44,
   "metadata": {},
   "outputs": [
    {
     "data": {
      "text/plain": [
       "1.17"
      ]
     },
     "execution_count": 44,
     "metadata": {},
     "output_type": "execute_result"
    }
   ],
   "source": [
    "# mass of the star here in this system\n",
    "kepler_data['sMass'][0] # mass of star in solar masses"
   ]
  },
  {
   "cell_type": "code",
   "execution_count": 45,
   "metadata": {},
   "outputs": [
    {
     "data": {
      "text/plain": [
       "array([0.16, 0.01], dtype=float32)"
      ]
     },
     "execution_count": 45,
     "metadata": {},
     "output_type": "execute_result"
    }
   ],
   "source": [
    "# mass of my planets\n",
    "kepler_data['pMass'] # in Jupiter masses"
   ]
  },
  {
   "cell_type": "code",
   "execution_count": 46,
   "metadata": {},
   "outputs": [],
   "source": [
    "# so these are about the size of Saturn & Neptune, respectively"
   ]
  },
  {
   "cell_type": "code",
   "execution_count": 47,
   "metadata": {},
   "outputs": [],
   "source": [
    "#  order is        first planet       second planet            sun\n",
    "texture_files = ['saturn_1024.jpg', 'neptunemap_1000.jpg', 'sun_texture1.jpg']"
   ]
  },
  {
   "cell_type": "code",
   "execution_count": 48,
   "metadata": {},
   "outputs": [],
   "source": [
    "# approximate the sizes of things by Saturn, Neptune and the sun\n",
    "PlanetRadius = [5.823e9, 2.46e9, 69.55e9] # cm\n",
    "#               Saturn   Neptune  Sun"
   ]
  },
  {
   "cell_type": "markdown",
   "metadata": {},
   "source": [
    "# Start putting all this information together"
   ]
  },
  {
   "cell_type": "code",
   "execution_count": 49,
   "metadata": {},
   "outputs": [],
   "source": [
    "# 1. tell python where to look for files\n",
    "from sys import path\n",
    "path.append(make3dplanets_libdir)\n",
    "from make3dplanets import make3dplanets"
   ]
  },
  {
   "cell_type": "code",
   "execution_count": 50,
   "metadata": {},
   "outputs": [],
   "source": [
    "# rename a few things for sanity's sake\n",
    "generic_dir = make3dplanets_libdir # generic planet files\n",
    "textures_dir = make3dplanets_libdir + '/textureMaps/' # textures are "
   ]
  },
  {
   "cell_type": "markdown",
   "metadata": {},
   "source": [
    "# Finally - run function to make 3d geometry"
   ]
  },
  {
   "cell_type": "code",
   "execution_count": 51,
   "metadata": {},
   "outputs": [],
   "source": [
    "# what time step to make a file out of\n",
    "Nplot = 100"
   ]
  },
  {
   "cell_type": "code",
   "execution_count": 52,
   "metadata": {},
   "outputs": [],
   "source": [
    "# format my planet locations"
   ]
  },
  {
   "cell_type": "code",
   "execution_count": 53,
   "metadata": {},
   "outputs": [],
   "source": [
    "# at this timestep (Nplot timestep) our planet will be located at PlanetLocation\n",
    "# start with an empty PlanetLocation vector:\n",
    "PlanetLocation = np.zeros([len(PlanetRadius), 3]) # initialize format\n",
    "# fill PlanetLocation with positions from r_h, our simulation data at timestep Nplot\n",
    "for p in range(0,len(PlanetRadius)): # loop over each planet\n",
    "    PlanetLocation[p,2] = r_h[p, 0, Nplot]*AUinCM # swapping z & x, and converting to cm\n",
    "    PlanetLocation[p,0] = r_h[p, 1, Nplot]*AUinCM # swapping x & y, converting\n",
    "    PlanetLocation[p,1] = r_h[p, 2, Nplot]*AUinCM # swapping y & z, converting\n"
   ]
  },
  {
   "cell_type": "code",
   "execution_count": 54,
   "metadata": {},
   "outputs": [],
   "source": [
    "# use all this information to make a 3d geometry file\n",
    "fname = make3dplanets(SystemName, PlanetLocation, PlanetRadius, \n",
    "                     output_planet_dir, generic_dir, textures_dir=textures_dir, \n",
    "                     texture_file=texture_files, DistanceUnits=AUinCM)"
   ]
  },
  {
   "cell_type": "code",
   "execution_count": 55,
   "metadata": {},
   "outputs": [
    {
     "data": {
      "text/plain": [
       "'myPlanetSystem1.obj'"
      ]
     },
     "execution_count": 55,
     "metadata": {},
     "output_type": "execute_result"
    }
   ],
   "source": [
    "fname"
   ]
  },
  {
   "cell_type": "code",
   "execution_count": null,
   "metadata": {},
   "outputs": [],
   "source": []
  },
  {
   "cell_type": "code",
   "execution_count": null,
   "metadata": {},
   "outputs": [],
   "source": []
  }
 ],
 "metadata": {
  "kernelspec": {
   "display_name": "Python 3",
   "language": "python",
   "name": "python3"
  },
  "language_info": {
   "codemirror_mode": {
    "name": "ipython",
    "version": 3
   },
   "file_extension": ".py",
   "mimetype": "text/x-python",
   "name": "python",
   "nbconvert_exporter": "python",
   "pygments_lexer": "ipython3",
   "version": "3.7.3"
  }
 },
 "nbformat": 4,
 "nbformat_minor": 2
}
